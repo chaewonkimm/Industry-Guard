{
 "cells": [
  {
   "cell_type": "code",
   "execution_count": 2,
   "id": "600e1886",
   "metadata": {},
   "outputs": [],
   "source": [
    "import pandas as pd"
   ]
  },
  {
   "cell_type": "code",
   "execution_count": 3,
   "id": "c5f6f7ea",
   "metadata": {},
   "outputs": [],
   "source": [
    "df = pd.read_excel('제10차 산업안전보건 실태조사_raw data_건설업_230102.xlsx')"
   ]
  },
  {
   "cell_type": "code",
   "execution_count": 4,
   "id": "3c309371",
   "metadata": {},
   "outputs": [
    {
     "data": {
      "text/html": [
       "<div>\n",
       "<style scoped>\n",
       "    .dataframe tbody tr th:only-of-type {\n",
       "        vertical-align: middle;\n",
       "    }\n",
       "\n",
       "    .dataframe tbody tr th {\n",
       "        vertical-align: top;\n",
       "    }\n",
       "\n",
       "    .dataframe thead th {\n",
       "        text-align: right;\n",
       "    }\n",
       "</style>\n",
       "<table border=\"1\" class=\"dataframe\">\n",
       "  <thead>\n",
       "    <tr style=\"text-align: right;\">\n",
       "      <th></th>\n",
       "      <th>ID</th>\n",
       "      <th>SQ1</th>\n",
       "      <th>SQ2</th>\n",
       "      <th>SQ3</th>\n",
       "      <th>Q1_1A</th>\n",
       "      <th>Q1_1B</th>\n",
       "      <th>Q1_1C</th>\n",
       "      <th>Q1_2A</th>\n",
       "      <th>Q1_2B</th>\n",
       "      <th>Q1_2C</th>\n",
       "      <th>...</th>\n",
       "      <th>Q32_1</th>\n",
       "      <th>Q33</th>\n",
       "      <th>Q33_1</th>\n",
       "      <th>Q34</th>\n",
       "      <th>Q35</th>\n",
       "      <th>Q36</th>\n",
       "      <th>code5</th>\n",
       "      <th>code2</th>\n",
       "      <th>WT1</th>\n",
       "      <th>WT2</th>\n",
       "    </tr>\n",
       "  </thead>\n",
       "  <tbody>\n",
       "    <tr>\n",
       "      <th>0</th>\n",
       "      <td>1</td>\n",
       "      <td>34177</td>\n",
       "      <td>1</td>\n",
       "      <td>9</td>\n",
       "      <td>2021</td>\n",
       "      <td>1</td>\n",
       "      <td>1</td>\n",
       "      <td>2022</td>\n",
       "      <td>12</td>\n",
       "      <td>31</td>\n",
       "      <td>...</td>\n",
       "      <td>3.0</td>\n",
       "      <td>4</td>\n",
       "      <td>2.0</td>\n",
       "      <td>3</td>\n",
       "      <td>없음</td>\n",
       "      <td>없음</td>\n",
       "      <td>42311</td>\n",
       "      <td>42</td>\n",
       "      <td>21.866142</td>\n",
       "      <td>2.268003</td>\n",
       "    </tr>\n",
       "    <tr>\n",
       "      <th>1</th>\n",
       "      <td>2</td>\n",
       "      <td>34176</td>\n",
       "      <td>1</td>\n",
       "      <td>9</td>\n",
       "      <td>2021</td>\n",
       "      <td>1</td>\n",
       "      <td>1</td>\n",
       "      <td>2022</td>\n",
       "      <td>2</td>\n",
       "      <td>31</td>\n",
       "      <td>...</td>\n",
       "      <td>3.0</td>\n",
       "      <td>3</td>\n",
       "      <td>2.0</td>\n",
       "      <td>3</td>\n",
       "      <td>없음</td>\n",
       "      <td>없음</td>\n",
       "      <td>42311</td>\n",
       "      <td>42</td>\n",
       "      <td>21.866142</td>\n",
       "      <td>2.268003</td>\n",
       "    </tr>\n",
       "    <tr>\n",
       "      <th>2</th>\n",
       "      <td>3</td>\n",
       "      <td>33633</td>\n",
       "      <td>2</td>\n",
       "      <td>9</td>\n",
       "      <td>2020</td>\n",
       "      <td>6</td>\n",
       "      <td>10</td>\n",
       "      <td>2022</td>\n",
       "      <td>11</td>\n",
       "      <td>23</td>\n",
       "      <td>...</td>\n",
       "      <td>3.0</td>\n",
       "      <td>3</td>\n",
       "      <td>3.0</td>\n",
       "      <td>3</td>\n",
       "      <td>없음</td>\n",
       "      <td>없음</td>\n",
       "      <td>42139</td>\n",
       "      <td>42</td>\n",
       "      <td>12.278481</td>\n",
       "      <td>1.273550</td>\n",
       "    </tr>\n",
       "    <tr>\n",
       "      <th>3</th>\n",
       "      <td>4</td>\n",
       "      <td>34193</td>\n",
       "      <td>1</td>\n",
       "      <td>9</td>\n",
       "      <td>2019</td>\n",
       "      <td>11</td>\n",
       "      <td>23</td>\n",
       "      <td>2021</td>\n",
       "      <td>11</td>\n",
       "      <td>22</td>\n",
       "      <td>...</td>\n",
       "      <td>4.0</td>\n",
       "      <td>4</td>\n",
       "      <td>4.0</td>\n",
       "      <td>1</td>\n",
       "      <td>없음</td>\n",
       "      <td>없음</td>\n",
       "      <td>42311</td>\n",
       "      <td>42</td>\n",
       "      <td>21.866142</td>\n",
       "      <td>2.268003</td>\n",
       "    </tr>\n",
       "    <tr>\n",
       "      <th>4</th>\n",
       "      <td>5</td>\n",
       "      <td>31801</td>\n",
       "      <td>2</td>\n",
       "      <td>9</td>\n",
       "      <td>2021</td>\n",
       "      <td>5</td>\n",
       "      <td>14</td>\n",
       "      <td>2023</td>\n",
       "      <td>11</td>\n",
       "      <td>30</td>\n",
       "      <td>...</td>\n",
       "      <td>3.0</td>\n",
       "      <td>4</td>\n",
       "      <td>3.0</td>\n",
       "      <td>1</td>\n",
       "      <td>외국인 근로자에 대한 취업 제한이 필요하다</td>\n",
       "      <td>근로자의 안전 의식 수준 향상을 위한 제도 마련이 필요하다</td>\n",
       "      <td>41122</td>\n",
       "      <td>41</td>\n",
       "      <td>6.628571</td>\n",
       "      <td>0.687529</td>\n",
       "    </tr>\n",
       "  </tbody>\n",
       "</table>\n",
       "<p>5 rows × 200 columns</p>\n",
       "</div>"
      ],
      "text/plain": [
       "   ID    SQ1  SQ2  SQ3  Q1_1A  Q1_1B  Q1_1C  Q1_2A  Q1_2B  Q1_2C  ...  Q32_1  \\\n",
       "0   1  34177    1    9   2021      1      1   2022     12     31  ...    3.0   \n",
       "1   2  34176    1    9   2021      1      1   2022      2     31  ...    3.0   \n",
       "2   3  33633    2    9   2020      6     10   2022     11     23  ...    3.0   \n",
       "3   4  34193    1    9   2019     11     23   2021     11     22  ...    4.0   \n",
       "4   5  31801    2    9   2021      5     14   2023     11     30  ...    3.0   \n",
       "\n",
       "   Q33 Q33_1  Q34                      Q35                               Q36  \\\n",
       "0    4   2.0    3                       없음                                없음   \n",
       "1    3   2.0    3                       없음                                없음   \n",
       "2    3   3.0    3                       없음                                없음   \n",
       "3    4   4.0    1                       없음                                없음   \n",
       "4    4   3.0    1  외국인 근로자에 대한 취업 제한이 필요하다  근로자의 안전 의식 수준 향상을 위한 제도 마련이 필요하다   \n",
       "\n",
       "   code5  code2        WT1       WT2  \n",
       "0  42311     42  21.866142  2.268003  \n",
       "1  42311     42  21.866142  2.268003  \n",
       "2  42139     42  12.278481  1.273550  \n",
       "3  42311     42  21.866142  2.268003  \n",
       "4  41122     41   6.628571  0.687529  \n",
       "\n",
       "[5 rows x 200 columns]"
      ]
     },
     "execution_count": 4,
     "metadata": {},
     "output_type": "execute_result"
    }
   ],
   "source": [
    "df.head()"
   ]
  },
  {
   "cell_type": "code",
   "execution_count": 5,
   "id": "dfb722fb",
   "metadata": {},
   "outputs": [
    {
     "data": {
      "text/plain": [
       "200"
      ]
     },
     "execution_count": 5,
     "metadata": {},
     "output_type": "execute_result"
    }
   ],
   "source": [
    "len(df.columns)"
   ]
  },
  {
   "cell_type": "markdown",
   "id": "fb6b785b",
   "metadata": {},
   "source": [
    "### 전처리"
   ]
  },
  {
   "cell_type": "code",
   "execution_count": 6,
   "id": "f8584140",
   "metadata": {},
   "outputs": [
    {
     "data": {
      "text/plain": [
       "Index(['ID', 'SQ1', 'SQ2', 'SQ3', 'Q1_1A', 'Q1_1B', 'Q1_1C', 'Q1_2A', 'Q1_2B',\n",
       "       'Q1_2C',\n",
       "       ...\n",
       "       'Q32_1', 'Q33', 'Q33_1', 'Q34', 'Q35', 'Q36', 'code5', 'code2', 'WT1',\n",
       "       'WT2'],\n",
       "      dtype='object', length=200)"
      ]
     },
     "execution_count": 6,
     "metadata": {},
     "output_type": "execute_result"
    }
   ],
   "source": [
    "df.columns"
   ]
  },
  {
   "cell_type": "code",
   "execution_count": 7,
   "id": "fa889b13",
   "metadata": {},
   "outputs": [
    {
     "data": {
      "text/plain": [
       "ID         0\n",
       "SQ1        0\n",
       "SQ2        0\n",
       "SQ3        0\n",
       "Q1_1A      0\n",
       "        ... \n",
       "Q36      169\n",
       "code5      0\n",
       "code2      0\n",
       "WT1        0\n",
       "WT2        0\n",
       "Length: 200, dtype: int64"
      ]
     },
     "execution_count": 7,
     "metadata": {},
     "output_type": "execute_result"
    }
   ],
   "source": [
    "df.isna().sum()"
   ]
  },
  {
   "cell_type": "markdown",
   "id": "81fafd4b",
   "metadata": {},
   "source": [
    "#### 불필요한 변수 제거"
   ]
  },
  {
   "cell_type": "code",
   "execution_count": 8,
   "id": "7ad51468",
   "metadata": {},
   "outputs": [],
   "source": [
    "df = df.drop(['Q1_5','Q6_1','Q6_2'], axis=1)"
   ]
  },
  {
   "cell_type": "code",
   "execution_count": 9,
   "id": "f0782b28",
   "metadata": {},
   "outputs": [],
   "source": [
    "df = df.loc[:, ~df.columns.str.contains('Q3') | df.columns.isin(['Q3_1_1', 'Q3_2_1'])]"
   ]
  },
  {
   "cell_type": "code",
   "execution_count": 10,
   "id": "3321278d",
   "metadata": {},
   "outputs": [],
   "source": [
    "df = df.loc[:, ~df.columns.str.contains('Q7') | df.columns.isin(['Q7_1', 'Q7_2'])]"
   ]
  },
  {
   "cell_type": "code",
   "execution_count": 11,
   "id": "184cf6af",
   "metadata": {},
   "outputs": [],
   "source": [
    "df = df.loc[:, ~df.columns.str.contains('Q8|Q10|Q12|Q14|Q15|Q17|Q18|Q19|Q20|Q21|Q23|Q24|Q25|Q26|Q30|Q31|Q32|Q33|Q34')]"
   ]
  },
  {
   "cell_type": "code",
   "execution_count": 12,
   "id": "24e72992",
   "metadata": {},
   "outputs": [],
   "source": [
    "df = df.loc[:, ~df.columns.str.contains('Q16') | df.columns.isin(['Q16_1', 'Q16_4', 'Q16_13', 'Q16_14', 'Q16_15'])]"
   ]
  },
  {
   "cell_type": "code",
   "execution_count": 13,
   "id": "e0e085d7",
   "metadata": {},
   "outputs": [],
   "source": [
    "df = df.loc[:, ~df.columns.str.contains('Q28') | df.columns.isin(['Q28_1','Q29_1'])]"
   ]
  },
  {
   "cell_type": "code",
   "execution_count": 14,
   "id": "d0f6b807",
   "metadata": {},
   "outputs": [],
   "source": [
    "df = df.loc[:, ~df.columns.str.contains('Q29')]"
   ]
  },
  {
   "cell_type": "code",
   "execution_count": 15,
   "id": "6b7ef929",
   "metadata": {},
   "outputs": [],
   "source": [
    "df = df.drop(['Q1_4_txt','Q6_2_txt','Q7_1','Q7_2','Q22_txt'], axis=1)"
   ]
  },
  {
   "cell_type": "code",
   "execution_count": 16,
   "id": "47d3879c",
   "metadata": {},
   "outputs": [],
   "source": [
    "df = df.drop(['code5','code2','WT1','WT2'], axis=1)"
   ]
  },
  {
   "cell_type": "markdown",
   "id": "292194cb",
   "metadata": {},
   "source": [
    "#### Q3_1_1 컬럼 특정값 대체"
   ]
  },
  {
   "cell_type": "code",
   "execution_count": 17,
   "id": "1dd5b997",
   "metadata": {},
   "outputs": [],
   "source": [
    "df['Q3_1_1'] = df['Q3_1_1'].fillna(0)\n",
    "df['Q3_2_1'] = df['Q3_2_1'].fillna(0)"
   ]
  },
  {
   "cell_type": "markdown",
   "id": "d03810fa",
   "metadata": {},
   "source": [
    "#### target 컬럼 전처리"
   ]
  },
  {
   "cell_type": "code",
   "execution_count": 18,
   "id": "70a4c679",
   "metadata": {},
   "outputs": [],
   "source": [
    "target_lst = ['Q27_1_1','Q27_1_2','Q27_1_3','Q27_2_1','Q27_2_2','Q27_2_3','Q27_3_1','Q27_3_2','Q27_3_3','Q27_4_1','Q27_4_2','Q27_4_3']"
   ]
  },
  {
   "cell_type": "code",
   "execution_count": 19,
   "id": "36b9caf7",
   "metadata": {},
   "outputs": [],
   "source": [
    "df[target_lst] = df[target_lst].replace(999, 0)"
   ]
  },
  {
   "cell_type": "code",
   "execution_count": 20,
   "id": "de126eab",
   "metadata": {},
   "outputs": [],
   "source": [
    "df['target'] = df['Q27_1_1'] + df['Q27_1_2'] + df['Q27_1_3'] + df['Q27_2_1'] + df['Q27_2_2'] + df['Q27_2_3'] + df['Q27_3_1'] + df['Q27_3_2'] + df['Q27_3_3'] + df['Q27_4_1'] + df['Q27_4_2'] + df['Q27_4_3'] "
   ]
  },
  {
   "cell_type": "code",
   "execution_count": 21,
   "id": "98dc7e33",
   "metadata": {},
   "outputs": [],
   "source": [
    "df = df.drop(columns=target_lst)"
   ]
  },
  {
   "cell_type": "code",
   "execution_count": 22,
   "id": "53ad2685",
   "metadata": {},
   "outputs": [
    {
     "data": {
      "text/plain": [
       "target\n",
       "0         965\n",
       "1         257\n",
       "2         117\n",
       "3          61\n",
       "4          33\n",
       "5          24\n",
       "7          10\n",
       "6           7\n",
       "8           6\n",
       "13          3\n",
       "9           3\n",
       "90          3\n",
       "11          2\n",
       "12          2\n",
       "10          2\n",
       "14          1\n",
       "17          1\n",
       "20          1\n",
       "21          1\n",
       "30          1\n",
       "34          1\n",
       "91          1\n",
       "dtype: int64"
      ]
     },
     "execution_count": 22,
     "metadata": {},
     "output_type": "execute_result"
    }
   ],
   "source": [
    "df[['target']].value_counts()"
   ]
  },
  {
   "cell_type": "markdown",
   "id": "e67e1e3d",
   "metadata": {},
   "source": [
    "#### 데이터 타입 변환"
   ]
  },
  {
   "cell_type": "code",
   "execution_count": 23,
   "id": "427c4706",
   "metadata": {},
   "outputs": [],
   "source": [
    "df = df.astype('string')"
   ]
  },
  {
   "cell_type": "code",
   "execution_count": 24,
   "id": "a5200ef3",
   "metadata": {},
   "outputs": [],
   "source": [
    "df['Q1_3'] = df['Q1_3'].astype('int')\n",
    "df['Q4_1'] = df['Q4_1'].astype('int')\n",
    "df['Q4_2'] = df['Q4_2'].astype('int')\n",
    "df['Q4_3'] = df['Q4_3'].astype('int')\n",
    "df['Q4_4'] = df['Q4_4'].astype('int')"
   ]
  },
  {
   "cell_type": "code",
   "execution_count": 25,
   "id": "d519b8a0",
   "metadata": {},
   "outputs": [],
   "source": [
    "df['target'] = df['target'].apply(lambda x: '0' if x == '0' else '1')"
   ]
  },
  {
   "cell_type": "code",
   "execution_count": 26,
   "id": "23f62480",
   "metadata": {},
   "outputs": [
    {
     "data": {
      "text/plain": [
       "0    965\n",
       "1    537\n",
       "Name: target, dtype: int64"
      ]
     },
     "execution_count": 26,
     "metadata": {},
     "output_type": "execute_result"
    }
   ],
   "source": [
    "df['target'].value_counts()"
   ]
  },
  {
   "cell_type": "markdown",
   "id": "d85f7647",
   "metadata": {},
   "source": [
    "### 모델링"
   ]
  },
  {
   "cell_type": "markdown",
   "id": "41ed880d",
   "metadata": {},
   "source": [
    "#### 피처 엔지니어링"
   ]
  },
  {
   "cell_type": "code",
   "execution_count": 27,
   "id": "4acca0fc",
   "metadata": {},
   "outputs": [],
   "source": [
    "df['Q1_2A'] = df['Q1_2A'].astype('int')\n",
    "df['Q1_1A'] = df['Q1_1A'].astype('int')"
   ]
  },
  {
   "cell_type": "code",
   "execution_count": 28,
   "id": "26f52ef3",
   "metadata": {},
   "outputs": [],
   "source": [
    "df['duration'] = df['Q1_2A'] - df['Q1_1A']"
   ]
  },
  {
   "cell_type": "code",
   "execution_count": 29,
   "id": "2e2bf827",
   "metadata": {},
   "outputs": [],
   "source": [
    "df['Q4_1'] = df['Q4_1'].astype('int')\n",
    "df['Q4_2'] = df['Q4_2'].astype('int')"
   ]
  },
  {
   "cell_type": "code",
   "execution_count": 30,
   "id": "c8116106",
   "metadata": {},
   "outputs": [],
   "source": [
    "df['55_ratio'] = df['Q4_2'] / df['Q4_1']"
   ]
  },
  {
   "cell_type": "code",
   "execution_count": 31,
   "id": "f4cc073d",
   "metadata": {},
   "outputs": [],
   "source": [
    "df['55_plus'] = df['Q4_2'] + df['Q4_1']"
   ]
  },
  {
   "cell_type": "code",
   "execution_count": 32,
   "id": "7538e7c3",
   "metadata": {},
   "outputs": [],
   "source": [
    "df['55_mul'] = df['Q4_2'] * df['Q4_1']"
   ]
  },
  {
   "cell_type": "code",
   "execution_count": 33,
   "id": "46277a30",
   "metadata": {},
   "outputs": [],
   "source": [
    "df = df.drop(['Q3_2_1'], axis=1)"
   ]
  },
  {
   "cell_type": "code",
   "execution_count": 34,
   "id": "5bd25de9",
   "metadata": {},
   "outputs": [],
   "source": [
    "df['foreign_ratio'] = df['Q4_3'] / df['Q4_1']"
   ]
  },
  {
   "cell_type": "code",
   "execution_count": 35,
   "id": "2be9ef7c",
   "metadata": {},
   "outputs": [],
   "source": [
    "df['women_ratio'] = df['Q4_4'] / df['Q4_1']"
   ]
  },
  {
   "cell_type": "code",
   "execution_count": 36,
   "id": "129b84af",
   "metadata": {},
   "outputs": [],
   "source": [
    "df['Q1_1A'] = df['Q1_1A'].astype('string')\n",
    "df['Q1_2A'] = df['Q1_2A'].astype('string')"
   ]
  },
  {
   "cell_type": "code",
   "execution_count": 37,
   "id": "3bfa8f38",
   "metadata": {},
   "outputs": [],
   "source": [
    "df['year'] = df['Q1_1A'] + df['Q1_2A']"
   ]
  },
  {
   "cell_type": "code",
   "execution_count": 38,
   "id": "af955320",
   "metadata": {},
   "outputs": [],
   "source": [
    "df['syear_type'] = df['Q1_1A'] + df['Q3_1_1']"
   ]
  },
  {
   "cell_type": "code",
   "execution_count": 39,
   "id": "9993efed",
   "metadata": {},
   "outputs": [],
   "source": [
    "#df['underprivileged'] = df['Q4_3'] + df['Q4_4'] + df['Q4_2']"
   ]
  },
  {
   "cell_type": "code",
   "execution_count": 40,
   "id": "0059facb",
   "metadata": {},
   "outputs": [],
   "source": [
    "#df['underprivileged_ratio'] = (df['Q4_3'] + df['Q4_4'] + df['Q4_2']) / df['Q4_1']"
   ]
  },
  {
   "cell_type": "code",
   "execution_count": 41,
   "id": "eb324baf",
   "metadata": {},
   "outputs": [],
   "source": [
    "numeric_features = df.dtypes[df.dtypes != \"string\"].index.tolist()"
   ]
  },
  {
   "cell_type": "code",
   "execution_count": 42,
   "id": "e986196a",
   "metadata": {},
   "outputs": [],
   "source": [
    "categorical_features = df.dtypes[df.dtypes == \"string\"].index.tolist()"
   ]
  },
  {
   "cell_type": "code",
   "execution_count": 44,
   "id": "9aaee3ea",
   "metadata": {},
   "outputs": [
    {
     "data": {
      "text/plain": [
       "57"
      ]
     },
     "execution_count": 44,
     "metadata": {},
     "output_type": "execute_result"
    }
   ],
   "source": [
    "len(df.columns)"
   ]
  },
  {
   "cell_type": "code",
   "execution_count": 43,
   "id": "276da5ea",
   "metadata": {},
   "outputs": [],
   "source": [
    "y = df.target\n",
    "X = df.drop(columns='target')"
   ]
  },
  {
   "cell_type": "code",
   "execution_count": null,
   "id": "49ff74b3",
   "metadata": {},
   "outputs": [],
   "source": [
    "from catboost import CatBoostClassifier\n",
    "from sklearn.metrics import roc_auc_score\n",
    "from sklearn.model_selection import train_test_split, cross_val_score, cross_validate\n",
    "from sklearn.model_selection import KFold\n",
    "import numpy as np\n",
    "\n",
    "X_train, X_test, y_train, y_test = train_test_split(X, y, test_size = 0.3, stratify = y, random_state = 0)\n",
    "\n",
    "scores = []\n",
    "oof_pred = np.zeros(X_test.shape[0])  # OOF 저장\n",
    "kfold = KFold(n_splits=13, shuffle=True, random_state=0)\n",
    "\n",
    "for train_index, valid_index in kfold.split(X_train, y_train): \n",
    "    train_x, valid_x = X_train.iloc[train_index], X_train.iloc[valid_index]\n",
    "    train_y, valid_y = y_train.iloc[train_index], y_train.iloc[valid_index]\n",
    "\n",
    "    model = CatBoostClassifier(cat_features=categorical_features, verbose=True, random_state=0)\n",
    "    model.fit(train_x, train_y,\n",
    "              eval_set=[(valid_x,valid_y)],\n",
    "              early_stopping_rounds=100\n",
    "             )\n",
    "\n",
    "    y_pred = model.predict_proba(valid_x)[:, 1]\n",
    "    auc = roc_auc_score(valid_y, y_pred)\n",
    "    scores.append(auc)\n",
    "\n",
    "    # OOF 예측값 저장\n",
    "    oof_pred += model.predict_proba(X_test)[:, 1] / kfold.get_n_splits()"
   ]
  },
  {
   "cell_type": "code",
   "execution_count": 45,
   "id": "58d30e1a",
   "metadata": {},
   "outputs": [
    {
     "name": "stdout",
     "output_type": "stream",
     "text": [
      "CV scores:  [0.79806452 0.79320988 0.78033088 0.79986523 0.83950617 0.78713528\n",
      " 0.87334218 0.79032258 0.75944056 0.79084967 0.7716129  0.84309896\n",
      " 0.81406356]\n",
      "CV mean = 0.80 with std = 0.03\n"
     ]
    }
   ],
   "source": [
    "scores = np.array(scores) \n",
    "print(\"CV scores: \", scores)\n",
    "print(\"CV mean = %.2f\" % scores.mean(), \"with std = %.2f\" % scores.std())"
   ]
  },
  {
   "cell_type": "code",
   "execution_count": 46,
   "id": "4c1813af",
   "metadata": {},
   "outputs": [
    {
     "data": {
      "text/plain": [
       "\"# submission 화일 생성\\nfilename = f'catboost_{CATBOOST_VERSION}_{scores.mean():.2f}.csv'\\npd.DataFrame({'ID':test_id, 'Salary':oof_pred}).to_csv(filename, index=False)\""
      ]
     },
     "execution_count": 46,
     "metadata": {},
     "output_type": "execute_result"
    }
   ],
   "source": [
    "'''# submission 화일 생성\n",
    "filename = f'catboost_{CATBOOST_VERSION}_{scores.mean():.2f}.csv'\n",
    "pd.DataFrame({'ID':test_id, 'Salary':oof_pred}).to_csv(filename, index=False)'''"
   ]
  },
  {
   "cell_type": "code",
   "execution_count": 47,
   "id": "cc007630",
   "metadata": {},
   "outputs": [
    {
     "data": {
      "text/plain": [
       "'from sklearn.model_selection import train_test_split\\nfrom sklearn.metrics import roc_auc_score\\n\\nX_train, X_test, y_train, y_test = train_test_split(X, y, test_size = 0.3, stratify = y, random_state = 0)\\n\\nmodel = CatBoostClassifier(random_state=42)\\nmodel.fit(X_train, y_train)\\npred = model.predict_proba(X_test)[:, 1]\\nscore = roc_auc_score(y_test, pred)'"
      ]
     },
     "execution_count": 47,
     "metadata": {},
     "output_type": "execute_result"
    }
   ],
   "source": [
    "'''from sklearn.model_selection import train_test_split\n",
    "from sklearn.metrics import roc_auc_score\n",
    "\n",
    "X_train, X_test, y_train, y_test = train_test_split(X, y, test_size = 0.3, stratify = y, random_state = 0)\n",
    "\n",
    "model = CatBoostClassifier(random_state=42)\n",
    "model.fit(X_train, y_train)\n",
    "pred = model.predict_proba(X_test)[:, 1]\n",
    "score = roc_auc_score(y_test, pred)'''"
   ]
  },
  {
   "cell_type": "code",
   "execution_count": 50,
   "id": "866b9c70",
   "metadata": {},
   "outputs": [
    {
     "data": {
      "text/plain": [
       "57"
      ]
     },
     "execution_count": 50,
     "metadata": {},
     "output_type": "execute_result"
    }
   ],
   "source": [
    "len(df.columns)"
   ]
  },
  {
   "cell_type": "code",
   "execution_count": 48,
   "id": "ea2649c0",
   "metadata": {},
   "outputs": [
    {
     "name": "stdout",
     "output_type": "stream",
     "text": [
      "year: 14.032718108136049\n",
      "Q1_1A: 5.593929196611181\n",
      "women_ratio: 5.326340085429716\n",
      "Q11: 5.149423779239863\n",
      "Q1_2A: 4.9012396905883815\n",
      "55_ratio: 4.4216774840968505\n",
      "55_plus: 4.339061483786595\n",
      "Q3_1_1: 3.6754400830492253\n",
      "Q4_1: 2.85617729521685\n",
      "Q4_2: 2.405745071238564\n",
      "Q16_14: 2.1899347411117946\n",
      "SQ2: 2.105154932175734\n",
      "Q4_3: 2.031523822833045\n",
      "Q2: 1.9918662069701307\n",
      "Q1_1B: 1.9619780868196592\n",
      "Q13_1: 1.9375367368304812\n",
      "Q28_1: 1.882113649773417\n",
      "Q4_4: 1.8732701471199342\n",
      "Q22: 1.8064945573123323\n",
      "Q16_15: 1.6560015257191556\n",
      "Q16_1: 1.5951008595136031\n",
      "Q13_19: 1.4772793045664279\n",
      "Q13_4: 1.2695524339248658\n",
      "55_mul: 1.2551038918025101\n",
      "Q1_2B: 1.1516877827099001\n",
      "Q13_13: 1.1196278606511119\n",
      "Q13_11: 1.1130348305599331\n",
      "duration: 1.07732515039364\n",
      "Q13_10: 1.0492372658711744\n",
      "Q13_12: 1.0266188312590692\n",
      "Q13_14: 1.0241271579264641\n",
      "Q13_20: 1.0187263972387588\n",
      "Q1_4: 0.97649761654231\n",
      "Q13_16: 0.9504344529330743\n",
      "Q16_13: 0.9371162526293572\n",
      "Q13_7: 0.9178054937586994\n",
      "Q13_9: 0.8850311104053699\n",
      "Q13_8: 0.8599448892515603\n",
      "Q16_4: 0.7934974032785693\n",
      "Q13_2: 0.7930081892998454\n",
      "Q13_3: 0.7807378723939854\n",
      "Q6: 0.7345796045953576\n",
      "Q5: 0.7342813338094831\n",
      "Q13_5: 0.6647035417566034\n",
      "Q13_17: 0.6046313546399333\n",
      "Q13_15: 0.5850625885289767\n",
      "Q1_1C: 0.5378621872217546\n",
      "Q13_6: 0.4478499805164954\n",
      "Q13_18: 0.4263761160580149\n",
      "foreign_ratio: 0.4207811942048231\n",
      "Q9: 0.2993464523945267\n",
      "Q1_3: 0.24933787719264316\n",
      "Q1_2C: 0.08606603811214397\n",
      "ID: 0.0\n",
      "SQ1: 0.0\n",
      "target: 0.0\n"
     ]
    }
   ],
   "source": [
    "importances = model.feature_importances_\n",
    "feature_importances = list(zip(df.columns, importances))\n",
    "sorted_importances = sorted(feature_importances, key=lambda x: x[1], reverse=True)\n",
    "for feature, importance in sorted_importances:\n",
    "    print(f\"{feature}: {importance}\")"
   ]
  },
  {
   "cell_type": "code",
   "execution_count": 49,
   "id": "eb8f06ec",
   "metadata": {},
   "outputs": [],
   "source": [
    "#df.to_csv('건설업전처리완료(target수정).csv',encoding='cp949', index=False)"
   ]
  }
 ],
 "metadata": {
  "kernelspec": {
   "display_name": "Python 3 (ipykernel)",
   "language": "python",
   "name": "python3"
  },
  "language_info": {
   "codemirror_mode": {
    "name": "ipython",
    "version": 3
   },
   "file_extension": ".py",
   "mimetype": "text/x-python",
   "name": "python",
   "nbconvert_exporter": "python",
   "pygments_lexer": "ipython3",
   "version": "3.9.12"
  }
 },
 "nbformat": 4,
 "nbformat_minor": 5
}
