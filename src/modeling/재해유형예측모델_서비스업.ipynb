{
 "cells": [
  {
   "cell_type": "code",
   "execution_count": 1,
   "id": "7f8ff26f",
   "metadata": {},
   "outputs": [],
   "source": [
    "import pandas as pd\n",
    "import pandas as np\n",
    "\n",
    "import warnings\n",
    "warnings.filterwarnings(action='ignore')"
   ]
  },
  {
   "cell_type": "code",
   "execution_count": 2,
   "id": "72a391f2",
   "metadata": {},
   "outputs": [],
   "source": [
    "data = pd.read_csv('서비스업_target수정.csv', encoding='cp949')"
   ]
  },
  {
   "cell_type": "code",
   "execution_count": 3,
   "id": "6150a2ff",
   "metadata": {},
   "outputs": [],
   "source": [
    "data['type1'] = data['Q14_2'].apply(lambda x: 0 if x < 4 else 1)\n",
    "data = data.drop(columns = 'Q14_2')"
   ]
  },
  {
   "cell_type": "code",
   "execution_count": 4,
   "id": "138c8c87",
   "metadata": {},
   "outputs": [],
   "source": [
    "data['type2'] = data['Q14_4'].apply(lambda x: 0 if x < 4 else 1)\n",
    "data = data.drop(columns ='Q14_4')"
   ]
  },
  {
   "cell_type": "code",
   "execution_count": 5,
   "id": "0606e0fd",
   "metadata": {},
   "outputs": [],
   "source": [
    "data['type3'] = data['Q14_5'].apply(lambda x: 0 if x < 4 else 1)\n",
    "data = data.drop(columns ='Q14_5')"
   ]
  },
  {
   "cell_type": "code",
   "execution_count": 6,
   "id": "e607b48d",
   "metadata": {},
   "outputs": [],
   "source": [
    "data['type4'] = data['Q14_6'].apply(lambda x: 0 if x < 4 else 1)\n",
    "data = data.drop(columns = 'Q14_6')"
   ]
  },
  {
   "cell_type": "code",
   "execution_count": 7,
   "id": "471de8fa",
   "metadata": {},
   "outputs": [],
   "source": [
    "data['type5'] = data[['Q14_7', 'Q14_13', 'Q14_14', 'Q14_15', 'Q14_16', 'Q14_17']].max(axis=1)\n",
    "data['type5'] = data['type5'].apply(lambda x: 0 if x < 4 else 1)\n",
    "data = data.drop(columns=['Q14_7', 'Q14_13', 'Q14_14', 'Q14_15', 'Q14_16', 'Q14_17'])"
   ]
  },
  {
   "cell_type": "code",
   "execution_count": 8,
   "id": "ced92808",
   "metadata": {},
   "outputs": [],
   "source": [
    "data['type6'] = data[['Q14_8', 'Q14_9', 'Q14_10', 'Q14_11', 'Q14_12']].max(axis=1)\n",
    "data['type6'] = data['type6'].apply(lambda x: 0 if x < 4 else 1)\n",
    "data = data.drop(columns=['Q14_8', 'Q14_9', 'Q14_10', 'Q14_11', 'Q14_12'])"
   ]
  },
  {
   "cell_type": "code",
   "execution_count": 9,
   "id": "c6efe98d",
   "metadata": {},
   "outputs": [],
   "source": [
    "data['type7'] = data['Q14_18'].apply(lambda x: 0 if x < 4 else 1)\n",
    "data = data.drop(columns = 'Q14_18')"
   ]
  },
  {
   "cell_type": "code",
   "execution_count": 10,
   "id": "bf2d2cab",
   "metadata": {},
   "outputs": [],
   "source": [
    "data['type8'] = data['Q14_19'].apply(lambda x: 0 if x < 4 else 1)\n",
    "data = data.drop(columns = 'Q14_19')"
   ]
  },
  {
   "cell_type": "code",
   "execution_count": 11,
   "id": "e22254ab",
   "metadata": {},
   "outputs": [],
   "source": [
    "data['type9'] = data['Q14_20'].apply(lambda x: 0 if x < 4 else 1)\n",
    "data = data.drop(columns = 'Q14_20')"
   ]
  },
  {
   "cell_type": "markdown",
   "id": "d7a887a3",
   "metadata": {},
   "source": [
    "## <font color = 'navy'> Modeling"
   ]
  },
  {
   "cell_type": "code",
   "execution_count": 44,
   "id": "9410d4ca",
   "metadata": {},
   "outputs": [],
   "source": [
    "y = data[data['target']==1]['type9']\n",
    "X = data[data['target']==1].drop(columns='type9')"
   ]
  },
  {
   "cell_type": "code",
   "execution_count": 45,
   "id": "15fe827f",
   "metadata": {},
   "outputs": [],
   "source": [
    "from sklearn.model_selection import train_test_split\n",
    "from sklearn.metrics import roc_auc_score\n",
    "from catboost import CatBoostClassifier\n",
    "\n",
    "X_train, X_test, y_train, y_test = train_test_split(X, y, test_size = 0.2, stratify = y, random_state = 0)\n",
    "\n",
    "model = CatBoostClassifier(random_state=42, verbose=False)\n",
    "model.fit(X_train, y_train)\n",
    "pred = model.predict_proba(X_test)[:, 1]\n",
    "score = roc_auc_score(y_test, pred)"
   ]
  },
  {
   "cell_type": "code",
   "execution_count": 46,
   "id": "59935c45",
   "metadata": {},
   "outputs": [
    {
     "data": {
      "text/plain": [
       "0.9089506172839505"
      ]
     },
     "execution_count": 46,
     "metadata": {},
     "output_type": "execute_result"
    }
   ],
   "source": [
    "score"
   ]
  },
  {
   "cell_type": "code",
   "execution_count": 47,
   "id": "e1037f11",
   "metadata": {},
   "outputs": [
    {
     "data": {
      "text/plain": [
       "0.329511096674772"
      ]
     },
     "execution_count": 47,
     "metadata": {},
     "output_type": "execute_result"
    }
   ],
   "source": [
    "pred.mean()"
   ]
  }
 ],
 "metadata": {
  "kernelspec": {
   "display_name": "Python 3 (ipykernel)",
   "language": "python",
   "name": "python3"
  },
  "language_info": {
   "codemirror_mode": {
    "name": "ipython",
    "version": 3
   },
   "file_extension": ".py",
   "mimetype": "text/x-python",
   "name": "python",
   "nbconvert_exporter": "python",
   "pygments_lexer": "ipython3",
   "version": "3.10.9"
  }
 },
 "nbformat": 4,
 "nbformat_minor": 5
}
