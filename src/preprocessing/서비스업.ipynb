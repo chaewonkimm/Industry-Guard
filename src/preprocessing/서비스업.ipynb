{
 "cells": [
  {
   "cell_type": "code",
   "execution_count": 1,
   "id": "fa346240",
   "metadata": {},
   "outputs": [],
   "source": [
    "import pandas as pd\n",
    "import numpy as np\n",
    "\n",
    "import warnings\n",
    "warnings.filterwarnings(action='ignore')"
   ]
  },
  {
   "cell_type": "markdown",
   "id": "8ae3d9af",
   "metadata": {},
   "source": [
    "## <font color = 'navy'> Preprocessing"
   ]
  },
  {
   "cell_type": "code",
   "execution_count": 2,
   "id": "b6d857bb",
   "metadata": {},
   "outputs": [],
   "source": [
    "data = pd.read_csv('data/산업안전보건실태조사_서비스업.csv', encoding='cp949')"
   ]
  },
  {
   "cell_type": "code",
   "execution_count": 3,
   "id": "6ebe28ab",
   "metadata": {},
   "outputs": [
    {
     "data": {
      "text/html": [
       "<div>\n",
       "<style scoped>\n",
       "    .dataframe tbody tr th:only-of-type {\n",
       "        vertical-align: middle;\n",
       "    }\n",
       "\n",
       "    .dataframe tbody tr th {\n",
       "        vertical-align: top;\n",
       "    }\n",
       "\n",
       "    .dataframe thead th {\n",
       "        text-align: right;\n",
       "    }\n",
       "</style>\n",
       "<table border=\"1\" class=\"dataframe\">\n",
       "  <thead>\n",
       "    <tr style=\"text-align: right;\">\n",
       "      <th></th>\n",
       "      <th>ID</th>\n",
       "      <th>SQ1</th>\n",
       "      <th>SQ2</th>\n",
       "      <th>SQ3</th>\n",
       "      <th>SQ4</th>\n",
       "      <th>SQ5</th>\n",
       "      <th>Q1_1</th>\n",
       "      <th>Q1_2</th>\n",
       "      <th>Q1_3</th>\n",
       "      <th>Q1_4</th>\n",
       "      <th>...</th>\n",
       "      <th>Q32_1</th>\n",
       "      <th>Q33</th>\n",
       "      <th>Q33_1</th>\n",
       "      <th>Q34</th>\n",
       "      <th>Q35</th>\n",
       "      <th>Q36</th>\n",
       "      <th>code5</th>\n",
       "      <th>code2</th>\n",
       "      <th>WT1</th>\n",
       "      <th>WT2</th>\n",
       "    </tr>\n",
       "  </thead>\n",
       "  <tbody>\n",
       "    <tr>\n",
       "      <th>0</th>\n",
       "      <td>1</td>\n",
       "      <td>21860</td>\n",
       "      <td>2017</td>\n",
       "      <td>1</td>\n",
       "      <td>2</td>\n",
       "      <td>1</td>\n",
       "      <td>20</td>\n",
       "      <td>20</td>\n",
       "      <td>0</td>\n",
       "      <td>20</td>\n",
       "      <td>...</td>\n",
       "      <td>NaN</td>\n",
       "      <td>2</td>\n",
       "      <td>NaN</td>\n",
       "      <td>1</td>\n",
       "      <td>NaN</td>\n",
       "      <td>NaN</td>\n",
       "      <td>96993</td>\n",
       "      <td>39</td>\n",
       "      <td>6.690284</td>\n",
       "      <td>0.920496</td>\n",
       "    </tr>\n",
       "    <tr>\n",
       "      <th>1</th>\n",
       "      <td>2</td>\n",
       "      <td>21555</td>\n",
       "      <td>2013</td>\n",
       "      <td>3</td>\n",
       "      <td>2</td>\n",
       "      <td>1</td>\n",
       "      <td>160</td>\n",
       "      <td>60</td>\n",
       "      <td>0</td>\n",
       "      <td>4</td>\n",
       "      <td>...</td>\n",
       "      <td>3.0</td>\n",
       "      <td>2</td>\n",
       "      <td>NaN</td>\n",
       "      <td>2</td>\n",
       "      <td>NaN</td>\n",
       "      <td>NaN</td>\n",
       "      <td>75121</td>\n",
       "      <td>38</td>\n",
       "      <td>6.983684</td>\n",
       "      <td>0.960864</td>\n",
       "    </tr>\n",
       "    <tr>\n",
       "      <th>2</th>\n",
       "      <td>3</td>\n",
       "      <td>20636</td>\n",
       "      <td>2009</td>\n",
       "      <td>1</td>\n",
       "      <td>2</td>\n",
       "      <td>1</td>\n",
       "      <td>48</td>\n",
       "      <td>2</td>\n",
       "      <td>2</td>\n",
       "      <td>22</td>\n",
       "      <td>...</td>\n",
       "      <td>1.0</td>\n",
       "      <td>3</td>\n",
       "      <td>2.0</td>\n",
       "      <td>3</td>\n",
       "      <td>NaN</td>\n",
       "      <td>NaN</td>\n",
       "      <td>52992</td>\n",
       "      <td>35</td>\n",
       "      <td>7.417347</td>\n",
       "      <td>1.020530</td>\n",
       "    </tr>\n",
       "    <tr>\n",
       "      <th>3</th>\n",
       "      <td>4</td>\n",
       "      <td>20631</td>\n",
       "      <td>1993</td>\n",
       "      <td>1</td>\n",
       "      <td>2</td>\n",
       "      <td>1</td>\n",
       "      <td>35</td>\n",
       "      <td>4</td>\n",
       "      <td>0</td>\n",
       "      <td>9</td>\n",
       "      <td>...</td>\n",
       "      <td>2.0</td>\n",
       "      <td>3</td>\n",
       "      <td>3.0</td>\n",
       "      <td>1</td>\n",
       "      <td>백신 접종</td>\n",
       "      <td>현실적인 지원이 필요하다</td>\n",
       "      <td>52992</td>\n",
       "      <td>35</td>\n",
       "      <td>7.417347</td>\n",
       "      <td>1.020530</td>\n",
       "    </tr>\n",
       "    <tr>\n",
       "      <th>4</th>\n",
       "      <td>5</td>\n",
       "      <td>20913</td>\n",
       "      <td>2017</td>\n",
       "      <td>1</td>\n",
       "      <td>2</td>\n",
       "      <td>1</td>\n",
       "      <td>27</td>\n",
       "      <td>23</td>\n",
       "      <td>0</td>\n",
       "      <td>12</td>\n",
       "      <td>...</td>\n",
       "      <td>4.0</td>\n",
       "      <td>3</td>\n",
       "      <td>3.0</td>\n",
       "      <td>1</td>\n",
       "      <td>NaN</td>\n",
       "      <td>NaN</td>\n",
       "      <td>74100</td>\n",
       "      <td>37</td>\n",
       "      <td>7.790870</td>\n",
       "      <td>1.071922</td>\n",
       "    </tr>\n",
       "  </tbody>\n",
       "</table>\n",
       "<p>5 rows × 173 columns</p>\n",
       "</div>"
      ],
      "text/plain": [
       "   ID    SQ1   SQ2  SQ3  SQ4  SQ5  Q1_1  Q1_2  Q1_3  Q1_4  ...  Q32_1  Q33  \\\n",
       "0   1  21860  2017    1    2    1    20    20     0    20  ...    NaN    2   \n",
       "1   2  21555  2013    3    2    1   160    60     0     4  ...    3.0    2   \n",
       "2   3  20636  2009    1    2    1    48     2     2    22  ...    1.0    3   \n",
       "3   4  20631  1993    1    2    1    35     4     0     9  ...    2.0    3   \n",
       "4   5  20913  2017    1    2    1    27    23     0    12  ...    4.0    3   \n",
       "\n",
       "   Q33_1  Q34    Q35            Q36  code5  code2       WT1       WT2  \n",
       "0    NaN    1    NaN            NaN  96993     39  6.690284  0.920496  \n",
       "1    NaN    2    NaN            NaN  75121     38  6.983684  0.960864  \n",
       "2    2.0    3    NaN            NaN  52992     35  7.417347  1.020530  \n",
       "3    3.0    1  백신 접종  현실적인 지원이 필요하다  52992     35  7.417347  1.020530  \n",
       "4    3.0    1    NaN            NaN  74100     37  7.790870  1.071922  \n",
       "\n",
       "[5 rows x 173 columns]"
      ]
     },
     "execution_count": 3,
     "metadata": {},
     "output_type": "execute_result"
    }
   ],
   "source": [
    "data.head()"
   ]
  },
  {
   "cell_type": "code",
   "execution_count": 4,
   "id": "4cc635b2",
   "metadata": {},
   "outputs": [
    {
     "data": {
      "text/plain": [
       "(2551, 173)"
      ]
     },
     "execution_count": 4,
     "metadata": {},
     "output_type": "execute_result"
    }
   ],
   "source": [
    "data.shape"
   ]
  },
  {
   "cell_type": "markdown",
   "id": "02976873",
   "metadata": {},
   "source": [
    "### <font color = 'navy'> 결측치 처리"
   ]
  },
  {
   "cell_type": "code",
   "execution_count": 5,
   "id": "dc724b54",
   "metadata": {},
   "outputs": [
    {
     "data": {
      "text/html": [
       "<div>\n",
       "<style scoped>\n",
       "    .dataframe tbody tr th:only-of-type {\n",
       "        vertical-align: middle;\n",
       "    }\n",
       "\n",
       "    .dataframe tbody tr th {\n",
       "        vertical-align: top;\n",
       "    }\n",
       "\n",
       "    .dataframe thead th {\n",
       "        text-align: right;\n",
       "    }\n",
       "</style>\n",
       "<table border=\"1\" class=\"dataframe\">\n",
       "  <thead>\n",
       "    <tr style=\"text-align: right;\">\n",
       "      <th></th>\n",
       "      <th>Column</th>\n",
       "      <th>nan</th>\n",
       "    </tr>\n",
       "  </thead>\n",
       "  <tbody>\n",
       "    <tr>\n",
       "      <th>11</th>\n",
       "      <td>Q2_1_1</td>\n",
       "      <td>0.660133</td>\n",
       "    </tr>\n",
       "    <tr>\n",
       "      <th>12</th>\n",
       "      <td>Q2_1_2</td>\n",
       "      <td>0.611133</td>\n",
       "    </tr>\n",
       "    <tr>\n",
       "      <th>16</th>\n",
       "      <td>Q4_1_2</td>\n",
       "      <td>0.785966</td>\n",
       "    </tr>\n",
       "    <tr>\n",
       "      <th>18</th>\n",
       "      <td>Q4_2_2</td>\n",
       "      <td>0.773814</td>\n",
       "    </tr>\n",
       "    <tr>\n",
       "      <th>20</th>\n",
       "      <td>Q4_3_2</td>\n",
       "      <td>0.784006</td>\n",
       "    </tr>\n",
       "    <tr>\n",
       "      <th>...</th>\n",
       "      <td>...</td>\n",
       "      <td>...</td>\n",
       "    </tr>\n",
       "    <tr>\n",
       "      <th>161</th>\n",
       "      <td>Q31_1</td>\n",
       "      <td>0.596237</td>\n",
       "    </tr>\n",
       "    <tr>\n",
       "      <th>163</th>\n",
       "      <td>Q32_1</td>\n",
       "      <td>0.235594</td>\n",
       "    </tr>\n",
       "    <tr>\n",
       "      <th>165</th>\n",
       "      <td>Q33_1</td>\n",
       "      <td>0.237946</td>\n",
       "    </tr>\n",
       "    <tr>\n",
       "      <th>167</th>\n",
       "      <td>Q35</td>\n",
       "      <td>0.808310</td>\n",
       "    </tr>\n",
       "    <tr>\n",
       "      <th>168</th>\n",
       "      <td>Q36</td>\n",
       "      <td>0.903567</td>\n",
       "    </tr>\n",
       "  </tbody>\n",
       "</table>\n",
       "<p>68 rows × 2 columns</p>\n",
       "</div>"
      ],
      "text/plain": [
       "     Column       nan\n",
       "11   Q2_1_1  0.660133\n",
       "12   Q2_1_2  0.611133\n",
       "16   Q4_1_2  0.785966\n",
       "18   Q4_2_2  0.773814\n",
       "20   Q4_3_2  0.784006\n",
       "..      ...       ...\n",
       "161   Q31_1  0.596237\n",
       "163   Q32_1  0.235594\n",
       "165   Q33_1  0.237946\n",
       "167     Q35  0.808310\n",
       "168     Q36  0.903567\n",
       "\n",
       "[68 rows x 2 columns]"
      ]
     },
     "execution_count": 5,
     "metadata": {},
     "output_type": "execute_result"
    }
   ],
   "source": [
    "na = data.isnull().mean().reset_index().rename(columns={'index':'Column', 0:'nan'})\n",
    "na = na[na['nan'] != 0]\n",
    "na"
   ]
  },
  {
   "cell_type": "markdown",
   "id": "c036de01",
   "metadata": {},
   "source": [
    "#### 결측치 비율 0.5 이상인 Column 제거"
   ]
  },
  {
   "cell_type": "code",
   "execution_count": 6,
   "id": "755ffc0c",
   "metadata": {
    "scrolled": true
   },
   "outputs": [
    {
     "data": {
      "text/plain": [
       "['Q2_1_1',\n",
       " 'Q2_1_2',\n",
       " 'Q4_1_2',\n",
       " 'Q4_2_2',\n",
       " 'Q4_3_2',\n",
       " 'Q6_1',\n",
       " 'Q6_2',\n",
       " 'Q6_3',\n",
       " 'Q6_4',\n",
       " 'Q7_1_2_txt',\n",
       " 'Q7_2',\n",
       " 'Q7_2_txt',\n",
       " 'Q10',\n",
       " 'Q10_1',\n",
       " 'Q15_1',\n",
       " 'Q15_1_txt',\n",
       " 'Q20_2_1',\n",
       " 'Q20_3',\n",
       " 'Q21_2',\n",
       " 'Q21_2_1',\n",
       " 'Q21_3',\n",
       " 'Q22_2',\n",
       " 'Q23_1',\n",
       " 'Q23_2',\n",
       " 'Q24_1',\n",
       " 'Q24_2',\n",
       " 'Q26_1',\n",
       " 'Q26_2',\n",
       " 'Q28_txt',\n",
       " 'Q29_3',\n",
       " 'Q29_4',\n",
       " 'Q29_5',\n",
       " 'Q29_6',\n",
       " 'Q29_7',\n",
       " 'Q29_8',\n",
       " 'Q29_9',\n",
       " 'Q29_10',\n",
       " 'Q29_11_txt',\n",
       " 'Q30_1',\n",
       " 'Q31_1',\n",
       " 'Q35',\n",
       " 'Q36']"
      ]
     },
     "execution_count": 6,
     "metadata": {},
     "output_type": "execute_result"
    }
   ],
   "source": [
    "na_col = na[na['nan'] >= 0.5]['Column'].to_list()\n",
    "na_col"
   ]
  },
  {
   "cell_type": "code",
   "execution_count": 7,
   "id": "29995ea3",
   "metadata": {},
   "outputs": [],
   "source": [
    "data = data.drop(na_col, axis=1)"
   ]
  },
  {
   "cell_type": "code",
   "execution_count": 8,
   "id": "542accd5",
   "metadata": {},
   "outputs": [
    {
     "data": {
      "text/plain": [
       "(2551, 131)"
      ]
     },
     "execution_count": 8,
     "metadata": {},
     "output_type": "execute_result"
    }
   ],
   "source": [
    "data.shape"
   ]
  },
  {
   "cell_type": "markdown",
   "id": "c69bed76",
   "metadata": {},
   "source": [
    "#### 변수별 결측치 처리"
   ]
  },
  {
   "cell_type": "code",
   "execution_count": 9,
   "id": "a32f29a7",
   "metadata": {},
   "outputs": [],
   "source": [
    "na = na[na['nan'] < 0.5]"
   ]
  },
  {
   "cell_type": "code",
   "execution_count": 10,
   "id": "02e5e0f7",
   "metadata": {},
   "outputs": [],
   "source": [
    "pd.set_option('display.max_rows', None)"
   ]
  },
  {
   "cell_type": "code",
   "execution_count": 11,
   "id": "4939a370",
   "metadata": {
    "scrolled": true
   },
   "outputs": [
    {
     "data": {
      "text/html": [
       "<div>\n",
       "<style scoped>\n",
       "    .dataframe tbody tr th:only-of-type {\n",
       "        vertical-align: middle;\n",
       "    }\n",
       "\n",
       "    .dataframe tbody tr th {\n",
       "        vertical-align: top;\n",
       "    }\n",
       "\n",
       "    .dataframe thead th {\n",
       "        text-align: right;\n",
       "    }\n",
       "</style>\n",
       "<table border=\"1\" class=\"dataframe\">\n",
       "  <thead>\n",
       "    <tr style=\"text-align: right;\">\n",
       "      <th></th>\n",
       "      <th>Column</th>\n",
       "      <th>nan</th>\n",
       "    </tr>\n",
       "  </thead>\n",
       "  <tbody>\n",
       "    <tr>\n",
       "      <th>27</th>\n",
       "      <td>Q7_1</td>\n",
       "      <td>0.103489</td>\n",
       "    </tr>\n",
       "    <tr>\n",
       "      <th>28</th>\n",
       "      <td>Q7_1_1</td>\n",
       "      <td>0.384947</td>\n",
       "    </tr>\n",
       "    <tr>\n",
       "      <th>29</th>\n",
       "      <td>Q7_1_2</td>\n",
       "      <td>0.384947</td>\n",
       "    </tr>\n",
       "    <tr>\n",
       "      <th>33</th>\n",
       "      <td>Q7_3</td>\n",
       "      <td>0.377891</td>\n",
       "    </tr>\n",
       "    <tr>\n",
       "      <th>34</th>\n",
       "      <td>Q7_4</td>\n",
       "      <td>0.377891</td>\n",
       "    </tr>\n",
       "    <tr>\n",
       "      <th>41</th>\n",
       "      <td>Q11</td>\n",
       "      <td>0.423363</td>\n",
       "    </tr>\n",
       "    <tr>\n",
       "      <th>65</th>\n",
       "      <td>Q15</td>\n",
       "      <td>0.113289</td>\n",
       "    </tr>\n",
       "    <tr>\n",
       "      <th>68</th>\n",
       "      <td>Q15_2_1</td>\n",
       "      <td>0.461388</td>\n",
       "    </tr>\n",
       "    <tr>\n",
       "      <th>69</th>\n",
       "      <td>Q15_2_2</td>\n",
       "      <td>0.461388</td>\n",
       "    </tr>\n",
       "    <tr>\n",
       "      <th>70</th>\n",
       "      <td>Q15_2_3</td>\n",
       "      <td>0.461388</td>\n",
       "    </tr>\n",
       "    <tr>\n",
       "      <th>102</th>\n",
       "      <td>Q18_1</td>\n",
       "      <td>0.186985</td>\n",
       "    </tr>\n",
       "    <tr>\n",
       "      <th>103</th>\n",
       "      <td>Q18_2</td>\n",
       "      <td>0.186985</td>\n",
       "    </tr>\n",
       "    <tr>\n",
       "      <th>104</th>\n",
       "      <td>Q18_3</td>\n",
       "      <td>0.186985</td>\n",
       "    </tr>\n",
       "    <tr>\n",
       "      <th>105</th>\n",
       "      <td>Q18_4</td>\n",
       "      <td>0.186985</td>\n",
       "    </tr>\n",
       "    <tr>\n",
       "      <th>107</th>\n",
       "      <td>Q19_2_1</td>\n",
       "      <td>0.079185</td>\n",
       "    </tr>\n",
       "    <tr>\n",
       "      <th>108</th>\n",
       "      <td>Q19_2_2</td>\n",
       "      <td>0.079185</td>\n",
       "    </tr>\n",
       "    <tr>\n",
       "      <th>109</th>\n",
       "      <td>Q19_3_1</td>\n",
       "      <td>0.079185</td>\n",
       "    </tr>\n",
       "    <tr>\n",
       "      <th>110</th>\n",
       "      <td>Q19_3_2</td>\n",
       "      <td>0.079185</td>\n",
       "    </tr>\n",
       "    <tr>\n",
       "      <th>111</th>\n",
       "      <td>Q19_3_3</td>\n",
       "      <td>0.079185</td>\n",
       "    </tr>\n",
       "    <tr>\n",
       "      <th>112</th>\n",
       "      <td>Q19_3_4</td>\n",
       "      <td>0.079185</td>\n",
       "    </tr>\n",
       "    <tr>\n",
       "      <th>114</th>\n",
       "      <td>Q20_2</td>\n",
       "      <td>0.070169</td>\n",
       "    </tr>\n",
       "    <tr>\n",
       "      <th>144</th>\n",
       "      <td>Q28_2</td>\n",
       "      <td>0.107801</td>\n",
       "    </tr>\n",
       "    <tr>\n",
       "      <th>145</th>\n",
       "      <td>Q28_3</td>\n",
       "      <td>0.253234</td>\n",
       "    </tr>\n",
       "    <tr>\n",
       "      <th>148</th>\n",
       "      <td>Q29_2</td>\n",
       "      <td>0.432379</td>\n",
       "    </tr>\n",
       "    <tr>\n",
       "      <th>163</th>\n",
       "      <td>Q32_1</td>\n",
       "      <td>0.235594</td>\n",
       "    </tr>\n",
       "    <tr>\n",
       "      <th>165</th>\n",
       "      <td>Q33_1</td>\n",
       "      <td>0.237946</td>\n",
       "    </tr>\n",
       "  </tbody>\n",
       "</table>\n",
       "</div>"
      ],
      "text/plain": [
       "      Column       nan\n",
       "27      Q7_1  0.103489\n",
       "28    Q7_1_1  0.384947\n",
       "29    Q7_1_2  0.384947\n",
       "33      Q7_3  0.377891\n",
       "34      Q7_4  0.377891\n",
       "41       Q11  0.423363\n",
       "65       Q15  0.113289\n",
       "68   Q15_2_1  0.461388\n",
       "69   Q15_2_2  0.461388\n",
       "70   Q15_2_3  0.461388\n",
       "102    Q18_1  0.186985\n",
       "103    Q18_2  0.186985\n",
       "104    Q18_3  0.186985\n",
       "105    Q18_4  0.186985\n",
       "107  Q19_2_1  0.079185\n",
       "108  Q19_2_2  0.079185\n",
       "109  Q19_3_1  0.079185\n",
       "110  Q19_3_2  0.079185\n",
       "111  Q19_3_3  0.079185\n",
       "112  Q19_3_4  0.079185\n",
       "114    Q20_2  0.070169\n",
       "144    Q28_2  0.107801\n",
       "145    Q28_3  0.253234\n",
       "148    Q29_2  0.432379\n",
       "163    Q32_1  0.235594\n",
       "165    Q33_1  0.237946"
      ]
     },
     "execution_count": 11,
     "metadata": {},
     "output_type": "execute_result"
    }
   ],
   "source": [
    "na"
   ]
  },
  {
   "cell_type": "markdown",
   "id": "60ca9485",
   "metadata": {},
   "source": [
    "- Q7"
   ]
  },
  {
   "cell_type": "code",
   "execution_count": 12,
   "id": "e2a54bb1",
   "metadata": {},
   "outputs": [],
   "source": [
    "data['Q7_1'] = data['Q7_1'].fillna(9.0)"
   ]
  },
  {
   "cell_type": "code",
   "execution_count": 13,
   "id": "6b62fe3a",
   "metadata": {},
   "outputs": [],
   "source": [
    "con = (data['Q7_1'] == 2.0)\n",
    "data.loc[con, 'Q7_1_1'] = data.loc[con, 'Q7_1_1'].fillna(0)\n",
    "data['Q7_1_1'] = data['Q7_1_1'].fillna(999)"
   ]
  },
  {
   "cell_type": "code",
   "execution_count": 14,
   "id": "e8198bb6",
   "metadata": {},
   "outputs": [],
   "source": [
    "con = (data['Q7_1'] == 2.0)\n",
    "data.loc[con, 'Q7_1_2'] = data.loc[con, 'Q7_1_2'].fillna(0)\n",
    "data['Q7_1_2'] = data['Q7_1_2'].fillna(9)"
   ]
  },
  {
   "cell_type": "code",
   "execution_count": 15,
   "id": "89cfc025",
   "metadata": {},
   "outputs": [],
   "source": [
    "data['Q7_3'] = data['Q7_3'].fillna(999)"
   ]
  },
  {
   "cell_type": "code",
   "execution_count": 16,
   "id": "c16d3796",
   "metadata": {},
   "outputs": [],
   "source": [
    "data['Q7_4'] = data['Q7_4'].fillna(999)"
   ]
  },
  {
   "cell_type": "markdown",
   "id": "c5c0e26f",
   "metadata": {},
   "source": [
    "- Q11"
   ]
  },
  {
   "cell_type": "code",
   "execution_count": 17,
   "id": "27aeeebf",
   "metadata": {},
   "outputs": [],
   "source": [
    "data['Q11'] = data['Q11'].fillna(9)"
   ]
  },
  {
   "cell_type": "markdown",
   "id": "6283a20f",
   "metadata": {},
   "source": [
    "- Q15"
   ]
  },
  {
   "cell_type": "code",
   "execution_count": 18,
   "id": "c30fe124",
   "metadata": {},
   "outputs": [
    {
     "data": {
      "text/plain": [
       "3.0    0.365347\n",
       "1.0    0.348099\n",
       "2.0    0.173265\n",
       "NaN    0.113289\n",
       "Name: Q15, dtype: float64"
      ]
     },
     "execution_count": 18,
     "metadata": {},
     "output_type": "execute_result"
    }
   ],
   "source": [
    "data['Q15'].value_counts(normalize=True, dropna=False)"
   ]
  },
  {
   "cell_type": "code",
   "execution_count": 19,
   "id": "b74fa13d",
   "metadata": {},
   "outputs": [],
   "source": [
    "data['Q15'] = data['Q15'].fillna(9)"
   ]
  },
  {
   "cell_type": "code",
   "execution_count": 20,
   "id": "01a333c9",
   "metadata": {},
   "outputs": [
    {
     "data": {
      "text/plain": [
       "0.461388"
      ]
     },
     "execution_count": 20,
     "metadata": {},
     "output_type": "execute_result"
    }
   ],
   "source": [
    "0.348099 + 0.113289"
   ]
  },
  {
   "cell_type": "code",
   "execution_count": 21,
   "id": "9adad405",
   "metadata": {},
   "outputs": [
    {
     "data": {
      "text/plain": [
       "NaN    0.461388\n",
       "1.0    0.331243\n",
       "3.0    0.127401\n",
       "2.0    0.079969\n",
       "Name: Q15_2_1, dtype: float64"
      ]
     },
     "execution_count": 21,
     "metadata": {},
     "output_type": "execute_result"
    }
   ],
   "source": [
    "data['Q15_2_1'].value_counts(normalize=True, dropna=False)"
   ]
  },
  {
   "cell_type": "code",
   "execution_count": 22,
   "id": "f3195684",
   "metadata": {},
   "outputs": [],
   "source": [
    "con = (data['Q15'] == 1.0) | (data['Q15'] == 9.0)\n",
    "data.loc[con, 'Q15_2_1'] = data.loc[con, 'Q15_2_1'].fillna(0)"
   ]
  },
  {
   "cell_type": "code",
   "execution_count": 23,
   "id": "b64110cb",
   "metadata": {},
   "outputs": [
    {
     "data": {
      "text/plain": [
       "0.0    0.461388\n",
       "1.0    0.331243\n",
       "3.0    0.127401\n",
       "2.0    0.079969\n",
       "Name: Q15_2_1, dtype: float64"
      ]
     },
     "execution_count": 23,
     "metadata": {},
     "output_type": "execute_result"
    }
   ],
   "source": [
    "data['Q15_2_1'].value_counts(normalize=True, dropna=False)"
   ]
  },
  {
   "cell_type": "code",
   "execution_count": 24,
   "id": "fd757517",
   "metadata": {},
   "outputs": [],
   "source": [
    "data.loc[con, 'Q15_2_2'] = data.loc[con, 'Q15_2_2'].fillna(0)\n",
    "data.loc[con, 'Q15_2_3'] = data.loc[con, 'Q15_2_3'].fillna(0)"
   ]
  },
  {
   "cell_type": "markdown",
   "id": "898c7f69",
   "metadata": {},
   "source": [
    "- Q18"
   ]
  },
  {
   "cell_type": "code",
   "execution_count": 25,
   "id": "cf70d254",
   "metadata": {},
   "outputs": [],
   "source": [
    "data['Q18_1'] = data['Q18_1'].fillna(9)"
   ]
  },
  {
   "cell_type": "code",
   "execution_count": 26,
   "id": "6dec9cfa",
   "metadata": {},
   "outputs": [],
   "source": [
    "data['Q18_2'] = data['Q18_2'].fillna(9)"
   ]
  },
  {
   "cell_type": "code",
   "execution_count": 27,
   "id": "13f52572",
   "metadata": {},
   "outputs": [],
   "source": [
    "data['Q18_3'] = data['Q18_3'].fillna(9)"
   ]
  },
  {
   "cell_type": "code",
   "execution_count": 28,
   "id": "71eb68d8",
   "metadata": {},
   "outputs": [],
   "source": [
    "data['Q18_4'] = data['Q18_4'].fillna(9)"
   ]
  },
  {
   "cell_type": "markdown",
   "id": "556571c3",
   "metadata": {},
   "source": [
    "- Q19"
   ]
  },
  {
   "cell_type": "code",
   "execution_count": 29,
   "id": "e88c2c40",
   "metadata": {},
   "outputs": [
    {
     "data": {
      "text/plain": [
       "1    0.920815\n",
       "2    0.079185\n",
       "Name: Q19_1, dtype: float64"
      ]
     },
     "execution_count": 29,
     "metadata": {},
     "output_type": "execute_result"
    }
   ],
   "source": [
    "data['Q19_1'].value_counts(normalize=True, dropna=False)"
   ]
  },
  {
   "cell_type": "code",
   "execution_count": 30,
   "id": "608eabf5",
   "metadata": {},
   "outputs": [],
   "source": [
    "data['Q19_2_1'] = data['Q19_2_1'].fillna(0)"
   ]
  },
  {
   "cell_type": "code",
   "execution_count": 31,
   "id": "e539a685",
   "metadata": {},
   "outputs": [],
   "source": [
    "data['Q19_2_2'] = data['Q19_2_2'].fillna(0)"
   ]
  },
  {
   "cell_type": "code",
   "execution_count": 32,
   "id": "3ced6d1f",
   "metadata": {},
   "outputs": [],
   "source": [
    "data['Q19_3_1'] = data['Q19_3_1'].fillna(0)"
   ]
  },
  {
   "cell_type": "code",
   "execution_count": 33,
   "id": "2b59a22c",
   "metadata": {},
   "outputs": [],
   "source": [
    "data['Q19_3_2'] = data['Q19_3_2'].fillna(0)"
   ]
  },
  {
   "cell_type": "code",
   "execution_count": 34,
   "id": "dd42a55f",
   "metadata": {},
   "outputs": [],
   "source": [
    "data['Q19_3_3'] = data['Q19_3_3'].fillna(0)"
   ]
  },
  {
   "cell_type": "code",
   "execution_count": 35,
   "id": "d87aad2a",
   "metadata": {},
   "outputs": [],
   "source": [
    "data['Q19_3_4'] = data['Q19_3_4'].fillna(0)"
   ]
  },
  {
   "cell_type": "markdown",
   "id": "d6652534",
   "metadata": {},
   "source": [
    "- Q20"
   ]
  },
  {
   "cell_type": "code",
   "execution_count": 36,
   "id": "93c1adcd",
   "metadata": {},
   "outputs": [
    {
     "data": {
      "text/plain": [
       "2.0    0.694238\n",
       "1.0    0.235594\n",
       "NaN    0.070169\n",
       "Name: Q20_2, dtype: float64"
      ]
     },
     "execution_count": 36,
     "metadata": {},
     "output_type": "execute_result"
    }
   ],
   "source": [
    "data['Q20_2'].value_counts(normalize=True, dropna=False)"
   ]
  },
  {
   "cell_type": "code",
   "execution_count": 37,
   "id": "0c7c0342",
   "metadata": {},
   "outputs": [],
   "source": [
    "data['Q20_2'] = data['Q20_2'].fillna(9)"
   ]
  },
  {
   "cell_type": "markdown",
   "id": "8b86fc11",
   "metadata": {},
   "source": [
    "- Q28"
   ]
  },
  {
   "cell_type": "code",
   "execution_count": 38,
   "id": "a3510487",
   "metadata": {},
   "outputs": [
    {
     "data": {
      "text/plain": [
       "4     0.252450\n",
       "5     0.168561\n",
       "2     0.147001\n",
       "7     0.106233\n",
       "3     0.081537\n",
       "8     0.079577\n",
       "6     0.076833\n",
       "9     0.044296\n",
       "1     0.042728\n",
       "99    0.000784\n",
       "Name: Q28_1, dtype: float64"
      ]
     },
     "execution_count": 38,
     "metadata": {},
     "output_type": "execute_result"
    }
   ],
   "source": [
    "data['Q28_1'].value_counts(normalize=True, dropna=False)"
   ]
  },
  {
   "cell_type": "code",
   "execution_count": 39,
   "id": "bd8a29bb",
   "metadata": {},
   "outputs": [],
   "source": [
    "data['Q28_2'] = data['Q28_2'].fillna(9)"
   ]
  },
  {
   "cell_type": "code",
   "execution_count": 40,
   "id": "24bb1e2a",
   "metadata": {},
   "outputs": [],
   "source": [
    "data['Q28_3'] = data['Q28_3'].fillna(9)"
   ]
  },
  {
   "cell_type": "markdown",
   "id": "453818e2",
   "metadata": {},
   "source": [
    "- Q29"
   ]
  },
  {
   "cell_type": "code",
   "execution_count": 41,
   "id": "f9f6d5e2",
   "metadata": {},
   "outputs": [],
   "source": [
    "data['Q29_2'] = data['Q29_2'].fillna(11)"
   ]
  },
  {
   "cell_type": "markdown",
   "id": "f7d49e07",
   "metadata": {},
   "source": [
    "- Q32"
   ]
  },
  {
   "cell_type": "code",
   "execution_count": 42,
   "id": "b4c847e0",
   "metadata": {},
   "outputs": [
    {
     "data": {
      "text/plain": [
       "3    0.593493\n",
       "2    0.210506\n",
       "4    0.170913\n",
       "1    0.025088\n",
       "Name: Q32, dtype: float64"
      ]
     },
     "execution_count": 42,
     "metadata": {},
     "output_type": "execute_result"
    }
   ],
   "source": [
    "data['Q32'].value_counts(normalize=True, dropna=False)"
   ]
  },
  {
   "cell_type": "code",
   "execution_count": 43,
   "id": "67fadf22",
   "metadata": {},
   "outputs": [
    {
     "data": {
      "text/plain": [
       "3.0    0.532732\n",
       "NaN    0.235594\n",
       "4.0    0.156801\n",
       "2.0    0.069777\n",
       "1.0    0.005096\n",
       "Name: Q32_1, dtype: float64"
      ]
     },
     "execution_count": 43,
     "metadata": {},
     "output_type": "execute_result"
    }
   ],
   "source": [
    "data['Q32_1'].value_counts(normalize=True, dropna=False)"
   ]
  },
  {
   "cell_type": "code",
   "execution_count": 44,
   "id": "8f232a0b",
   "metadata": {},
   "outputs": [],
   "source": [
    "con = (data['Q32'] == 1.0) | (data['Q32'] == 2.0)\n",
    "data.loc[con, 'Q32_1'] = data.loc[con, 'Q32_1'].fillna(0)"
   ]
  },
  {
   "cell_type": "code",
   "execution_count": 45,
   "id": "cc2503c9",
   "metadata": {},
   "outputs": [
    {
     "data": {
      "text/plain": [
       "3.0    0.532732\n",
       "0.0    0.235594\n",
       "4.0    0.156801\n",
       "2.0    0.069777\n",
       "1.0    0.005096\n",
       "Name: Q32_1, dtype: float64"
      ]
     },
     "execution_count": 45,
     "metadata": {},
     "output_type": "execute_result"
    }
   ],
   "source": [
    "data['Q32_1'].value_counts(normalize=True, dropna=False)"
   ]
  },
  {
   "cell_type": "markdown",
   "id": "e4fecac3",
   "metadata": {},
   "source": [
    "- Q33"
   ]
  },
  {
   "cell_type": "code",
   "execution_count": 46,
   "id": "3f701a5c",
   "metadata": {},
   "outputs": [],
   "source": [
    "con = (data['Q33'] == 1.0) | (data['Q33'] == 2.0)\n",
    "data.loc[con, 'Q33_1'] = data.loc[con, 'Q33_1'].fillna(0)"
   ]
  },
  {
   "cell_type": "code",
   "execution_count": 47,
   "id": "76ca0b70",
   "metadata": {},
   "outputs": [
    {
     "data": {
      "text/plain": [
       "3.0    0.462564\n",
       "0.0    0.237946\n",
       "4.0    0.151313\n",
       "2.0    0.128577\n",
       "1.0    0.019600\n",
       "Name: Q33_1, dtype: float64"
      ]
     },
     "execution_count": 47,
     "metadata": {},
     "output_type": "execute_result"
    }
   ],
   "source": [
    "data['Q33_1'].value_counts(normalize=True, dropna=False)"
   ]
  },
  {
   "cell_type": "code",
   "execution_count": 48,
   "id": "2a6f1044",
   "metadata": {},
   "outputs": [
    {
     "data": {
      "text/plain": [
       "(2551, 131)"
      ]
     },
     "execution_count": 48,
     "metadata": {},
     "output_type": "execute_result"
    }
   ],
   "source": [
    "data.shape"
   ]
  },
  {
   "cell_type": "code",
   "execution_count": 49,
   "id": "9567f406",
   "metadata": {},
   "outputs": [],
   "source": [
    "drop_col = ['SQ1','Q7_3','Q7_4','Q13_1','Q13_2','Q15','Q15_2_1','Q15_2_2','Q15_2_3','Q16_1_4',\n",
    " 'Q16_1_5','Q16_1_6','Q16_1_7','Q16_2_1','Q16_2_2','Q16_2_3','Q16_2_4','Q16_2_5',\n",
    " 'Q16_2_6','Q16_2_7','Q17_2','Q17_3','Q17_4','Q17_5','Q17_6','Q17_8','Q17_10','Q17_12',\n",
    " 'Q17_14','Q18_1','Q18_2','Q20_1','Q20_2','Q21_1','Q23','Q25','Q29_1','Q29_2',\n",
    " 'Q32','Q32_1','Q33','Q33_1','Q34','code5','code2','WT1','WT2']"
   ]
  },
  {
   "cell_type": "code",
   "execution_count": 50,
   "id": "06217a30",
   "metadata": {},
   "outputs": [],
   "source": [
    "data = data.drop(drop_col, axis=1)"
   ]
  },
  {
   "cell_type": "code",
   "execution_count": 51,
   "id": "96d30fba",
   "metadata": {
    "scrolled": true
   },
   "outputs": [
    {
     "data": {
      "text/plain": [
       "(2551, 84)"
      ]
     },
     "execution_count": 51,
     "metadata": {},
     "output_type": "execute_result"
    }
   ],
   "source": [
    "data.shape"
   ]
  },
  {
   "cell_type": "code",
   "execution_count": 52,
   "id": "21a96751",
   "metadata": {},
   "outputs": [],
   "source": [
    "# data.to_csv('preprocessed_서비스업.csv', encoding='cp949', index=False)"
   ]
  },
  {
   "cell_type": "markdown",
   "id": "cc6fc115",
   "metadata": {},
   "source": [
    "## <font color = 'navy'> Modeling"
   ]
  },
  {
   "cell_type": "code",
   "execution_count": 53,
   "id": "b7f35b4e",
   "metadata": {},
   "outputs": [],
   "source": [
    "target_lst = ['Q27_1_1','Q27_1_2','Q27_1_3','Q27_2_1','Q27_2_2','Q27_2_3','Q27_3_1','Q27_3_2','Q27_3_3','Q27_4_1','Q27_4_2','Q27_4_3']"
   ]
  },
  {
   "cell_type": "code",
   "execution_count": 54,
   "id": "b17690ff",
   "metadata": {},
   "outputs": [],
   "source": [
    "data[target_lst] = data[target_lst].replace(999, 0)"
   ]
  },
  {
   "cell_type": "code",
   "execution_count": 55,
   "id": "05f7dbf7",
   "metadata": {},
   "outputs": [],
   "source": [
    "data['target'] = data['Q27_1_1'] + data['Q27_1_2'] + data['Q27_1_3'] + data['Q27_2_1'] + data['Q27_2_2'] + data['Q27_2_3'] + data['Q27_3_1'] + data['Q27_3_2'] + data['Q27_3_3'] + data['Q27_4_1'] + data['Q27_4_2'] + data['Q27_4_3']"
   ]
  },
  {
   "cell_type": "code",
   "execution_count": 56,
   "id": "2395a057",
   "metadata": {},
   "outputs": [],
   "source": [
    "data = data.drop(target_lst, axis=1)"
   ]
  },
  {
   "cell_type": "code",
   "execution_count": 57,
   "id": "dfbf03f5",
   "metadata": {},
   "outputs": [],
   "source": [
    "data['target'] = data['target'].apply(lambda x: '0' if x == 0 else '1')"
   ]
  },
  {
   "cell_type": "code",
   "execution_count": 58,
   "id": "ec8f77e7",
   "metadata": {},
   "outputs": [
    {
     "data": {
      "text/plain": [
       "0    0.789494\n",
       "1    0.210506\n",
       "Name: target, dtype: float64"
      ]
     },
     "execution_count": 58,
     "metadata": {},
     "output_type": "execute_result"
    }
   ],
   "source": [
    "data['target'].value_counts(normalize=True)"
   ]
  },
  {
   "cell_type": "code",
   "execution_count": 59,
   "id": "0fd6f17d",
   "metadata": {},
   "outputs": [],
   "source": [
    "y = data['target']\n",
    "X = data.drop(columns='target')"
   ]
  },
  {
   "cell_type": "code",
   "execution_count": 60,
   "id": "15088867",
   "metadata": {},
   "outputs": [
    {
     "name": "stdout",
     "output_type": "stream",
     "text": [
      "Learning rate set to 0.013194\n",
      "0:\tlearn: 0.6872288\ttotal: 137ms\tremaining: 2m 17s\n",
      "1:\tlearn: 0.6805221\ttotal: 139ms\tremaining: 1m 9s\n",
      "2:\tlearn: 0.6744686\ttotal: 142ms\tremaining: 47.2s\n",
      "3:\tlearn: 0.6684198\ttotal: 144ms\tremaining: 35.8s\n",
      "4:\tlearn: 0.6623893\ttotal: 146ms\tremaining: 29s\n",
      "5:\tlearn: 0.6568679\ttotal: 147ms\tremaining: 24.4s\n",
      "6:\tlearn: 0.6517607\ttotal: 149ms\tremaining: 21.2s\n",
      "7:\tlearn: 0.6462316\ttotal: 151ms\tremaining: 18.7s\n",
      "8:\tlearn: 0.6410006\ttotal: 152ms\tremaining: 16.7s\n",
      "9:\tlearn: 0.6356820\ttotal: 153ms\tremaining: 15.2s\n",
      "10:\tlearn: 0.6304282\ttotal: 154ms\tremaining: 13.9s\n",
      "11:\tlearn: 0.6257699\ttotal: 155ms\tremaining: 12.8s\n",
      "12:\tlearn: 0.6209272\ttotal: 156ms\tremaining: 11.9s\n",
      "13:\tlearn: 0.6154957\ttotal: 158ms\tremaining: 11.1s\n",
      "14:\tlearn: 0.6106512\ttotal: 159ms\tremaining: 10.4s\n",
      "15:\tlearn: 0.6058619\ttotal: 160ms\tremaining: 9.83s\n",
      "16:\tlearn: 0.6016687\ttotal: 161ms\tremaining: 9.3s\n",
      "17:\tlearn: 0.5969646\ttotal: 162ms\tremaining: 8.84s\n",
      "18:\tlearn: 0.5931122\ttotal: 163ms\tremaining: 8.43s\n",
      "19:\tlearn: 0.5890427\ttotal: 164ms\tremaining: 8.05s\n",
      "20:\tlearn: 0.5851851\ttotal: 165ms\tremaining: 7.71s\n",
      "21:\tlearn: 0.5812838\ttotal: 167ms\tremaining: 7.41s\n",
      "22:\tlearn: 0.5773869\ttotal: 168ms\tremaining: 7.13s\n",
      "23:\tlearn: 0.5740190\ttotal: 169ms\tremaining: 6.87s\n",
      "24:\tlearn: 0.5702532\ttotal: 170ms\tremaining: 6.63s\n",
      "25:\tlearn: 0.5664701\ttotal: 171ms\tremaining: 6.41s\n",
      "26:\tlearn: 0.5627733\ttotal: 172ms\tremaining: 6.2s\n",
      "27:\tlearn: 0.5593793\ttotal: 173ms\tremaining: 6.01s\n",
      "28:\tlearn: 0.5557348\ttotal: 174ms\tremaining: 5.84s\n",
      "29:\tlearn: 0.5523810\ttotal: 175ms\tremaining: 5.67s\n",
      "30:\tlearn: 0.5498721\ttotal: 176ms\tremaining: 5.51s\n",
      "31:\tlearn: 0.5466770\ttotal: 177ms\tremaining: 5.36s\n",
      "32:\tlearn: 0.5436021\ttotal: 179ms\tremaining: 5.23s\n",
      "33:\tlearn: 0.5409854\ttotal: 180ms\tremaining: 5.1s\n",
      "34:\tlearn: 0.5380396\ttotal: 181ms\tremaining: 4.98s\n",
      "35:\tlearn: 0.5352402\ttotal: 182ms\tremaining: 4.87s\n",
      "36:\tlearn: 0.5322863\ttotal: 183ms\tremaining: 4.76s\n",
      "37:\tlearn: 0.5293008\ttotal: 184ms\tremaining: 4.66s\n",
      "38:\tlearn: 0.5266801\ttotal: 185ms\tremaining: 4.56s\n",
      "39:\tlearn: 0.5245259\ttotal: 186ms\tremaining: 4.47s\n",
      "40:\tlearn: 0.5217104\ttotal: 187ms\tremaining: 4.38s\n",
      "41:\tlearn: 0.5192186\ttotal: 189ms\tremaining: 4.3s\n",
      "42:\tlearn: 0.5167742\ttotal: 190ms\tremaining: 4.22s\n",
      "43:\tlearn: 0.5147859\ttotal: 191ms\tremaining: 4.14s\n",
      "44:\tlearn: 0.5131011\ttotal: 192ms\tremaining: 4.07s\n",
      "45:\tlearn: 0.5104579\ttotal: 193ms\tremaining: 4s\n",
      "46:\tlearn: 0.5083982\ttotal: 194ms\tremaining: 3.93s\n",
      "47:\tlearn: 0.5061871\ttotal: 195ms\tremaining: 3.87s\n",
      "48:\tlearn: 0.5034834\ttotal: 196ms\tremaining: 3.81s\n",
      "49:\tlearn: 0.5019810\ttotal: 198ms\tremaining: 3.76s\n",
      "50:\tlearn: 0.5001412\ttotal: 199ms\tremaining: 3.71s\n",
      "51:\tlearn: 0.4983885\ttotal: 200ms\tremaining: 3.65s\n",
      "52:\tlearn: 0.4966661\ttotal: 201ms\tremaining: 3.6s\n",
      "53:\tlearn: 0.4947083\ttotal: 202ms\tremaining: 3.55s\n",
      "54:\tlearn: 0.4925251\ttotal: 204ms\tremaining: 3.5s\n",
      "55:\tlearn: 0.4908228\ttotal: 205ms\tremaining: 3.45s\n",
      "56:\tlearn: 0.4895024\ttotal: 206ms\tremaining: 3.41s\n",
      "57:\tlearn: 0.4880833\ttotal: 207ms\tremaining: 3.36s\n",
      "58:\tlearn: 0.4867181\ttotal: 208ms\tremaining: 3.32s\n",
      "59:\tlearn: 0.4852600\ttotal: 209ms\tremaining: 3.28s\n",
      "60:\tlearn: 0.4836293\ttotal: 210ms\tremaining: 3.24s\n",
      "61:\tlearn: 0.4823071\ttotal: 211ms\tremaining: 3.2s\n",
      "62:\tlearn: 0.4810230\ttotal: 213ms\tremaining: 3.16s\n",
      "63:\tlearn: 0.4795744\ttotal: 214ms\tremaining: 3.12s\n",
      "64:\tlearn: 0.4783511\ttotal: 215ms\tremaining: 3.09s\n",
      "65:\tlearn: 0.4768260\ttotal: 216ms\tremaining: 3.05s\n",
      "66:\tlearn: 0.4754760\ttotal: 217ms\tremaining: 3.02s\n",
      "67:\tlearn: 0.4738672\ttotal: 218ms\tremaining: 2.99s\n",
      "68:\tlearn: 0.4724751\ttotal: 219ms\tremaining: 2.96s\n",
      "69:\tlearn: 0.4711612\ttotal: 220ms\tremaining: 2.93s\n",
      "70:\tlearn: 0.4699690\ttotal: 222ms\tremaining: 2.9s\n",
      "71:\tlearn: 0.4682796\ttotal: 223ms\tremaining: 2.88s\n",
      "72:\tlearn: 0.4668561\ttotal: 224ms\tremaining: 2.85s\n",
      "73:\tlearn: 0.4653302\ttotal: 226ms\tremaining: 2.82s\n",
      "74:\tlearn: 0.4641941\ttotal: 227ms\tremaining: 2.8s\n",
      "75:\tlearn: 0.4631449\ttotal: 228ms\tremaining: 2.77s\n",
      "76:\tlearn: 0.4615937\ttotal: 229ms\tremaining: 2.74s\n",
      "77:\tlearn: 0.4603791\ttotal: 230ms\tremaining: 2.72s\n",
      "78:\tlearn: 0.4592289\ttotal: 231ms\tremaining: 2.69s\n",
      "79:\tlearn: 0.4578898\ttotal: 232ms\tremaining: 2.67s\n",
      "80:\tlearn: 0.4565411\ttotal: 233ms\tremaining: 2.65s\n",
      "81:\tlearn: 0.4552691\ttotal: 235ms\tremaining: 2.63s\n",
      "82:\tlearn: 0.4541475\ttotal: 236ms\tremaining: 2.61s\n",
      "83:\tlearn: 0.4531954\ttotal: 237ms\tremaining: 2.58s\n",
      "84:\tlearn: 0.4522843\ttotal: 238ms\tremaining: 2.56s\n",
      "85:\tlearn: 0.4509144\ttotal: 239ms\tremaining: 2.54s\n",
      "86:\tlearn: 0.4501123\ttotal: 241ms\tremaining: 2.52s\n",
      "87:\tlearn: 0.4488028\ttotal: 242ms\tremaining: 2.5s\n",
      "88:\tlearn: 0.4479426\ttotal: 243ms\tremaining: 2.48s\n",
      "89:\tlearn: 0.4470657\ttotal: 244ms\tremaining: 2.47s\n",
      "90:\tlearn: 0.4458464\ttotal: 245ms\tremaining: 2.45s\n",
      "91:\tlearn: 0.4450357\ttotal: 246ms\tremaining: 2.43s\n",
      "92:\tlearn: 0.4442865\ttotal: 247ms\tremaining: 2.41s\n",
      "93:\tlearn: 0.4434322\ttotal: 248ms\tremaining: 2.39s\n",
      "94:\tlearn: 0.4423784\ttotal: 249ms\tremaining: 2.38s\n",
      "95:\tlearn: 0.4415564\ttotal: 251ms\tremaining: 2.36s\n",
      "96:\tlearn: 0.4406969\ttotal: 252ms\tremaining: 2.34s\n",
      "97:\tlearn: 0.4398558\ttotal: 253ms\tremaining: 2.33s\n",
      "98:\tlearn: 0.4388572\ttotal: 254ms\tremaining: 2.31s\n",
      "99:\tlearn: 0.4374162\ttotal: 255ms\tremaining: 2.3s\n",
      "100:\tlearn: 0.4364411\ttotal: 256ms\tremaining: 2.28s\n",
      "101:\tlearn: 0.4355558\ttotal: 257ms\tremaining: 2.27s\n",
      "102:\tlearn: 0.4344252\ttotal: 258ms\tremaining: 2.25s\n",
      "103:\tlearn: 0.4336730\ttotal: 260ms\tremaining: 2.24s\n",
      "104:\tlearn: 0.4330424\ttotal: 261ms\tremaining: 2.22s\n",
      "105:\tlearn: 0.4324228\ttotal: 262ms\tremaining: 2.21s\n",
      "106:\tlearn: 0.4315161\ttotal: 263ms\tremaining: 2.19s\n",
      "107:\tlearn: 0.4308587\ttotal: 264ms\tremaining: 2.18s\n",
      "108:\tlearn: 0.4304430\ttotal: 265ms\tremaining: 2.17s\n",
      "109:\tlearn: 0.4297205\ttotal: 266ms\tremaining: 2.15s\n",
      "110:\tlearn: 0.4291166\ttotal: 267ms\tremaining: 2.14s\n",
      "111:\tlearn: 0.4284228\ttotal: 269ms\tremaining: 2.13s\n",
      "112:\tlearn: 0.4278556\ttotal: 270ms\tremaining: 2.12s\n",
      "113:\tlearn: 0.4267624\ttotal: 271ms\tremaining: 2.1s\n",
      "114:\tlearn: 0.4258381\ttotal: 272ms\tremaining: 2.09s\n",
      "115:\tlearn: 0.4250308\ttotal: 273ms\tremaining: 2.08s\n",
      "116:\tlearn: 0.4243162\ttotal: 274ms\tremaining: 2.07s\n",
      "117:\tlearn: 0.4236745\ttotal: 275ms\tremaining: 2.06s\n",
      "118:\tlearn: 0.4227883\ttotal: 276ms\tremaining: 2.05s\n",
      "119:\tlearn: 0.4219204\ttotal: 278ms\tremaining: 2.04s\n",
      "120:\tlearn: 0.4211433\ttotal: 279ms\tremaining: 2.02s\n",
      "121:\tlearn: 0.4207162\ttotal: 280ms\tremaining: 2.01s\n",
      "122:\tlearn: 0.4201027\ttotal: 281ms\tremaining: 2s\n",
      "123:\tlearn: 0.4193592\ttotal: 282ms\tremaining: 1.99s\n",
      "124:\tlearn: 0.4185292\ttotal: 283ms\tremaining: 1.98s\n",
      "125:\tlearn: 0.4178642\ttotal: 284ms\tremaining: 1.97s\n",
      "126:\tlearn: 0.4171552\ttotal: 285ms\tremaining: 1.96s\n",
      "127:\tlearn: 0.4165221\ttotal: 287ms\tremaining: 1.95s\n",
      "128:\tlearn: 0.4157186\ttotal: 288ms\tremaining: 1.94s\n",
      "129:\tlearn: 0.4147473\ttotal: 289ms\tremaining: 1.93s\n",
      "130:\tlearn: 0.4142445\ttotal: 290ms\tremaining: 1.92s\n",
      "131:\tlearn: 0.4137680\ttotal: 291ms\tremaining: 1.91s\n",
      "132:\tlearn: 0.4127527\ttotal: 292ms\tremaining: 1.91s\n",
      "133:\tlearn: 0.4121272\ttotal: 293ms\tremaining: 1.9s\n",
      "134:\tlearn: 0.4115461\ttotal: 295ms\tremaining: 1.89s\n",
      "135:\tlearn: 0.4107544\ttotal: 296ms\tremaining: 1.88s\n",
      "136:\tlearn: 0.4101771\ttotal: 297ms\tremaining: 1.87s\n",
      "137:\tlearn: 0.4090969\ttotal: 298ms\tremaining: 1.86s\n",
      "138:\tlearn: 0.4086332\ttotal: 299ms\tremaining: 1.85s\n",
      "139:\tlearn: 0.4079576\ttotal: 300ms\tremaining: 1.84s\n",
      "140:\tlearn: 0.4073333\ttotal: 301ms\tremaining: 1.83s\n",
      "141:\tlearn: 0.4066317\ttotal: 302ms\tremaining: 1.83s\n",
      "142:\tlearn: 0.4057681\ttotal: 304ms\tremaining: 1.82s\n",
      "143:\tlearn: 0.4051615\ttotal: 305ms\tremaining: 1.81s\n",
      "144:\tlearn: 0.4046310\ttotal: 306ms\tremaining: 1.8s\n",
      "145:\tlearn: 0.4041098\ttotal: 307ms\tremaining: 1.79s\n",
      "146:\tlearn: 0.4033463\ttotal: 308ms\tremaining: 1.79s\n",
      "147:\tlearn: 0.4028231\ttotal: 309ms\tremaining: 1.78s\n",
      "148:\tlearn: 0.4022972\ttotal: 310ms\tremaining: 1.77s\n",
      "149:\tlearn: 0.4017684\ttotal: 311ms\tremaining: 1.76s\n",
      "150:\tlearn: 0.4011584\ttotal: 313ms\tremaining: 1.76s\n",
      "151:\tlearn: 0.4006663\ttotal: 314ms\tremaining: 1.75s\n",
      "152:\tlearn: 0.4002681\ttotal: 315ms\tremaining: 1.74s\n",
      "153:\tlearn: 0.3996138\ttotal: 316ms\tremaining: 1.74s\n",
      "154:\tlearn: 0.3991926\ttotal: 317ms\tremaining: 1.73s\n",
      "155:\tlearn: 0.3986589\ttotal: 318ms\tremaining: 1.72s\n",
      "156:\tlearn: 0.3982559\ttotal: 319ms\tremaining: 1.71s\n",
      "157:\tlearn: 0.3977672\ttotal: 320ms\tremaining: 1.71s\n",
      "158:\tlearn: 0.3974777\ttotal: 321ms\tremaining: 1.7s\n",
      "159:\tlearn: 0.3970523\ttotal: 323ms\tremaining: 1.69s\n",
      "160:\tlearn: 0.3965161\ttotal: 324ms\tremaining: 1.69s\n",
      "161:\tlearn: 0.3960166\ttotal: 325ms\tremaining: 1.68s\n",
      "162:\tlearn: 0.3956335\ttotal: 326ms\tremaining: 1.67s\n",
      "163:\tlearn: 0.3952283\ttotal: 327ms\tremaining: 1.67s\n",
      "164:\tlearn: 0.3949757\ttotal: 328ms\tremaining: 1.66s\n",
      "165:\tlearn: 0.3945163\ttotal: 329ms\tremaining: 1.66s\n",
      "166:\tlearn: 0.3939556\ttotal: 331ms\tremaining: 1.65s\n",
      "167:\tlearn: 0.3935598\ttotal: 332ms\tremaining: 1.64s\n",
      "168:\tlearn: 0.3929229\ttotal: 333ms\tremaining: 1.64s\n",
      "169:\tlearn: 0.3924200\ttotal: 334ms\tremaining: 1.63s\n",
      "170:\tlearn: 0.3917316\ttotal: 335ms\tremaining: 1.62s\n",
      "171:\tlearn: 0.3912906\ttotal: 336ms\tremaining: 1.62s\n",
      "172:\tlearn: 0.3908697\ttotal: 337ms\tremaining: 1.61s\n",
      "173:\tlearn: 0.3904766\ttotal: 338ms\tremaining: 1.6s\n",
      "174:\tlearn: 0.3897610\ttotal: 339ms\tremaining: 1.6s\n",
      "175:\tlearn: 0.3893017\ttotal: 340ms\tremaining: 1.59s\n",
      "176:\tlearn: 0.3889728\ttotal: 341ms\tremaining: 1.59s\n",
      "177:\tlearn: 0.3883947\ttotal: 343ms\tremaining: 1.58s\n",
      "178:\tlearn: 0.3878943\ttotal: 344ms\tremaining: 1.58s\n",
      "179:\tlearn: 0.3873528\ttotal: 345ms\tremaining: 1.57s\n",
      "180:\tlearn: 0.3869143\ttotal: 346ms\tremaining: 1.56s\n",
      "181:\tlearn: 0.3866770\ttotal: 347ms\tremaining: 1.56s\n",
      "182:\tlearn: 0.3862086\ttotal: 348ms\tremaining: 1.55s\n",
      "183:\tlearn: 0.3857937\ttotal: 349ms\tremaining: 1.55s\n",
      "184:\tlearn: 0.3853737\ttotal: 350ms\tremaining: 1.54s\n",
      "185:\tlearn: 0.3849981\ttotal: 351ms\tremaining: 1.54s\n",
      "186:\tlearn: 0.3844547\ttotal: 352ms\tremaining: 1.53s\n",
      "187:\tlearn: 0.3840850\ttotal: 354ms\tremaining: 1.53s\n",
      "188:\tlearn: 0.3835594\ttotal: 355ms\tremaining: 1.52s\n",
      "189:\tlearn: 0.3831430\ttotal: 356ms\tremaining: 1.52s\n",
      "190:\tlearn: 0.3828070\ttotal: 357ms\tremaining: 1.51s\n",
      "191:\tlearn: 0.3822808\ttotal: 358ms\tremaining: 1.51s\n",
      "192:\tlearn: 0.3816895\ttotal: 359ms\tremaining: 1.5s\n",
      "193:\tlearn: 0.3811675\ttotal: 360ms\tremaining: 1.5s\n",
      "194:\tlearn: 0.3807502\ttotal: 362ms\tremaining: 1.49s\n",
      "195:\tlearn: 0.3803084\ttotal: 363ms\tremaining: 1.49s\n",
      "196:\tlearn: 0.3795104\ttotal: 364ms\tremaining: 1.48s\n",
      "197:\tlearn: 0.3791660\ttotal: 365ms\tremaining: 1.48s\n",
      "198:\tlearn: 0.3788023\ttotal: 366ms\tremaining: 1.47s\n",
      "199:\tlearn: 0.3785199\ttotal: 367ms\tremaining: 1.47s\n",
      "200:\tlearn: 0.3779249\ttotal: 368ms\tremaining: 1.46s\n",
      "201:\tlearn: 0.3777369\ttotal: 370ms\tremaining: 1.46s\n",
      "202:\tlearn: 0.3774198\ttotal: 371ms\tremaining: 1.46s\n",
      "203:\tlearn: 0.3770537\ttotal: 372ms\tremaining: 1.45s\n",
      "204:\tlearn: 0.3766571\ttotal: 373ms\tremaining: 1.45s\n",
      "205:\tlearn: 0.3763236\ttotal: 374ms\tremaining: 1.44s\n",
      "206:\tlearn: 0.3760976\ttotal: 375ms\tremaining: 1.44s\n",
      "207:\tlearn: 0.3757496\ttotal: 376ms\tremaining: 1.43s\n",
      "208:\tlearn: 0.3752857\ttotal: 377ms\tremaining: 1.43s\n",
      "209:\tlearn: 0.3749955\ttotal: 378ms\tremaining: 1.42s\n",
      "210:\tlearn: 0.3746094\ttotal: 379ms\tremaining: 1.42s\n",
      "211:\tlearn: 0.3741808\ttotal: 380ms\tremaining: 1.41s\n",
      "212:\tlearn: 0.3737732\ttotal: 382ms\tremaining: 1.41s\n",
      "213:\tlearn: 0.3731539\ttotal: 383ms\tremaining: 1.41s\n",
      "214:\tlearn: 0.3728895\ttotal: 384ms\tremaining: 1.4s\n",
      "215:\tlearn: 0.3722618\ttotal: 385ms\tremaining: 1.4s\n",
      "216:\tlearn: 0.3719536\ttotal: 386ms\tremaining: 1.39s\n",
      "217:\tlearn: 0.3714879\ttotal: 387ms\tremaining: 1.39s\n",
      "218:\tlearn: 0.3711405\ttotal: 388ms\tremaining: 1.39s\n",
      "219:\tlearn: 0.3708652\ttotal: 390ms\tremaining: 1.38s\n",
      "220:\tlearn: 0.3704879\ttotal: 391ms\tremaining: 1.38s\n",
      "221:\tlearn: 0.3702029\ttotal: 392ms\tremaining: 1.37s\n",
      "222:\tlearn: 0.3697970\ttotal: 393ms\tremaining: 1.37s\n",
      "223:\tlearn: 0.3694373\ttotal: 394ms\tremaining: 1.36s\n",
      "224:\tlearn: 0.3689377\ttotal: 395ms\tremaining: 1.36s\n",
      "225:\tlearn: 0.3686234\ttotal: 396ms\tremaining: 1.36s\n"
     ]
    },
    {
     "name": "stdout",
     "output_type": "stream",
     "text": [
      "226:\tlearn: 0.3683265\ttotal: 398ms\tremaining: 1.35s\n",
      "227:\tlearn: 0.3678689\ttotal: 399ms\tremaining: 1.35s\n",
      "228:\tlearn: 0.3673336\ttotal: 400ms\tremaining: 1.35s\n",
      "229:\tlearn: 0.3670515\ttotal: 401ms\tremaining: 1.34s\n",
      "230:\tlearn: 0.3668028\ttotal: 402ms\tremaining: 1.34s\n",
      "231:\tlearn: 0.3663429\ttotal: 404ms\tremaining: 1.34s\n",
      "232:\tlearn: 0.3657118\ttotal: 405ms\tremaining: 1.33s\n",
      "233:\tlearn: 0.3653649\ttotal: 406ms\tremaining: 1.33s\n",
      "234:\tlearn: 0.3650142\ttotal: 408ms\tremaining: 1.33s\n",
      "235:\tlearn: 0.3647658\ttotal: 409ms\tremaining: 1.32s\n",
      "236:\tlearn: 0.3643819\ttotal: 410ms\tremaining: 1.32s\n",
      "237:\tlearn: 0.3637589\ttotal: 411ms\tremaining: 1.32s\n",
      "238:\tlearn: 0.3632914\ttotal: 412ms\tremaining: 1.31s\n",
      "239:\tlearn: 0.3629143\ttotal: 414ms\tremaining: 1.31s\n",
      "240:\tlearn: 0.3625544\ttotal: 415ms\tremaining: 1.31s\n",
      "241:\tlearn: 0.3622788\ttotal: 416ms\tremaining: 1.3s\n",
      "242:\tlearn: 0.3618845\ttotal: 417ms\tremaining: 1.3s\n",
      "243:\tlearn: 0.3615250\ttotal: 418ms\tremaining: 1.3s\n",
      "244:\tlearn: 0.3612239\ttotal: 420ms\tremaining: 1.29s\n",
      "245:\tlearn: 0.3609440\ttotal: 421ms\tremaining: 1.29s\n",
      "246:\tlearn: 0.3606687\ttotal: 422ms\tremaining: 1.28s\n",
      "247:\tlearn: 0.3603111\ttotal: 423ms\tremaining: 1.28s\n",
      "248:\tlearn: 0.3599652\ttotal: 424ms\tremaining: 1.28s\n",
      "249:\tlearn: 0.3595989\ttotal: 425ms\tremaining: 1.27s\n",
      "250:\tlearn: 0.3591230\ttotal: 426ms\tremaining: 1.27s\n",
      "251:\tlearn: 0.3589100\ttotal: 428ms\tremaining: 1.27s\n",
      "252:\tlearn: 0.3582756\ttotal: 429ms\tremaining: 1.27s\n",
      "253:\tlearn: 0.3578969\ttotal: 430ms\tremaining: 1.26s\n",
      "254:\tlearn: 0.3576377\ttotal: 431ms\tremaining: 1.26s\n",
      "255:\tlearn: 0.3572902\ttotal: 432ms\tremaining: 1.26s\n",
      "256:\tlearn: 0.3567531\ttotal: 434ms\tremaining: 1.25s\n",
      "257:\tlearn: 0.3563261\ttotal: 435ms\tremaining: 1.25s\n",
      "258:\tlearn: 0.3559348\ttotal: 436ms\tremaining: 1.25s\n",
      "259:\tlearn: 0.3556048\ttotal: 437ms\tremaining: 1.24s\n",
      "260:\tlearn: 0.3552905\ttotal: 438ms\tremaining: 1.24s\n",
      "261:\tlearn: 0.3549866\ttotal: 439ms\tremaining: 1.24s\n",
      "262:\tlearn: 0.3548208\ttotal: 440ms\tremaining: 1.23s\n",
      "263:\tlearn: 0.3544835\ttotal: 441ms\tremaining: 1.23s\n",
      "264:\tlearn: 0.3540786\ttotal: 443ms\tremaining: 1.23s\n",
      "265:\tlearn: 0.3536421\ttotal: 444ms\tremaining: 1.22s\n",
      "266:\tlearn: 0.3533162\ttotal: 445ms\tremaining: 1.22s\n",
      "267:\tlearn: 0.3530496\ttotal: 446ms\tremaining: 1.22s\n",
      "268:\tlearn: 0.3528545\ttotal: 447ms\tremaining: 1.21s\n",
      "269:\tlearn: 0.3522320\ttotal: 448ms\tremaining: 1.21s\n",
      "270:\tlearn: 0.3519661\ttotal: 449ms\tremaining: 1.21s\n",
      "271:\tlearn: 0.3516048\ttotal: 450ms\tremaining: 1.21s\n",
      "272:\tlearn: 0.3513100\ttotal: 451ms\tremaining: 1.2s\n",
      "273:\tlearn: 0.3510256\ttotal: 453ms\tremaining: 1.2s\n",
      "274:\tlearn: 0.3506621\ttotal: 454ms\tremaining: 1.2s\n",
      "275:\tlearn: 0.3503409\ttotal: 455ms\tremaining: 1.19s\n",
      "276:\tlearn: 0.3500187\ttotal: 456ms\tremaining: 1.19s\n",
      "277:\tlearn: 0.3497826\ttotal: 457ms\tremaining: 1.19s\n",
      "278:\tlearn: 0.3492746\ttotal: 458ms\tremaining: 1.18s\n",
      "279:\tlearn: 0.3488799\ttotal: 459ms\tremaining: 1.18s\n",
      "280:\tlearn: 0.3481436\ttotal: 460ms\tremaining: 1.18s\n",
      "281:\tlearn: 0.3478248\ttotal: 462ms\tremaining: 1.18s\n",
      "282:\tlearn: 0.3475253\ttotal: 463ms\tremaining: 1.17s\n",
      "283:\tlearn: 0.3472070\ttotal: 464ms\tremaining: 1.17s\n",
      "284:\tlearn: 0.3467746\ttotal: 465ms\tremaining: 1.17s\n",
      "285:\tlearn: 0.3464358\ttotal: 466ms\tremaining: 1.16s\n",
      "286:\tlearn: 0.3460267\ttotal: 467ms\tremaining: 1.16s\n",
      "287:\tlearn: 0.3457531\ttotal: 468ms\tremaining: 1.16s\n",
      "288:\tlearn: 0.3452980\ttotal: 470ms\tremaining: 1.16s\n",
      "289:\tlearn: 0.3450161\ttotal: 471ms\tremaining: 1.15s\n",
      "290:\tlearn: 0.3445832\ttotal: 472ms\tremaining: 1.15s\n",
      "291:\tlearn: 0.3443850\ttotal: 473ms\tremaining: 1.15s\n",
      "292:\tlearn: 0.3440943\ttotal: 474ms\tremaining: 1.14s\n",
      "293:\tlearn: 0.3439686\ttotal: 475ms\tremaining: 1.14s\n",
      "294:\tlearn: 0.3435703\ttotal: 476ms\tremaining: 1.14s\n",
      "295:\tlearn: 0.3433456\ttotal: 477ms\tremaining: 1.14s\n",
      "296:\tlearn: 0.3431597\ttotal: 478ms\tremaining: 1.13s\n",
      "297:\tlearn: 0.3427239\ttotal: 480ms\tremaining: 1.13s\n",
      "298:\tlearn: 0.3424416\ttotal: 481ms\tremaining: 1.13s\n",
      "299:\tlearn: 0.3421709\ttotal: 482ms\tremaining: 1.12s\n",
      "300:\tlearn: 0.3419165\ttotal: 483ms\tremaining: 1.12s\n",
      "301:\tlearn: 0.3416870\ttotal: 484ms\tremaining: 1.12s\n",
      "302:\tlearn: 0.3412100\ttotal: 485ms\tremaining: 1.11s\n",
      "303:\tlearn: 0.3410139\ttotal: 486ms\tremaining: 1.11s\n",
      "304:\tlearn: 0.3407998\ttotal: 487ms\tremaining: 1.11s\n",
      "305:\tlearn: 0.3404237\ttotal: 488ms\tremaining: 1.11s\n",
      "306:\tlearn: 0.3400354\ttotal: 489ms\tremaining: 1.1s\n",
      "307:\tlearn: 0.3395927\ttotal: 491ms\tremaining: 1.1s\n",
      "308:\tlearn: 0.3392525\ttotal: 492ms\tremaining: 1.1s\n",
      "309:\tlearn: 0.3390651\ttotal: 493ms\tremaining: 1.1s\n",
      "310:\tlearn: 0.3388159\ttotal: 494ms\tremaining: 1.09s\n",
      "311:\tlearn: 0.3384282\ttotal: 495ms\tremaining: 1.09s\n",
      "312:\tlearn: 0.3380478\ttotal: 496ms\tremaining: 1.09s\n",
      "313:\tlearn: 0.3374782\ttotal: 497ms\tremaining: 1.09s\n",
      "314:\tlearn: 0.3370724\ttotal: 499ms\tremaining: 1.08s\n",
      "315:\tlearn: 0.3365439\ttotal: 500ms\tremaining: 1.08s\n",
      "316:\tlearn: 0.3362082\ttotal: 501ms\tremaining: 1.08s\n",
      "317:\tlearn: 0.3358572\ttotal: 502ms\tremaining: 1.08s\n",
      "318:\tlearn: 0.3355018\ttotal: 503ms\tremaining: 1.07s\n",
      "319:\tlearn: 0.3351922\ttotal: 504ms\tremaining: 1.07s\n",
      "320:\tlearn: 0.3348894\ttotal: 505ms\tremaining: 1.07s\n",
      "321:\tlearn: 0.3345368\ttotal: 506ms\tremaining: 1.06s\n",
      "322:\tlearn: 0.3342289\ttotal: 507ms\tremaining: 1.06s\n",
      "323:\tlearn: 0.3339400\ttotal: 509ms\tremaining: 1.06s\n",
      "324:\tlearn: 0.3335283\ttotal: 510ms\tremaining: 1.06s\n",
      "325:\tlearn: 0.3331390\ttotal: 511ms\tremaining: 1.06s\n",
      "326:\tlearn: 0.3328370\ttotal: 512ms\tremaining: 1.05s\n",
      "327:\tlearn: 0.3325031\ttotal: 513ms\tremaining: 1.05s\n",
      "328:\tlearn: 0.3320830\ttotal: 514ms\tremaining: 1.05s\n",
      "329:\tlearn: 0.3318276\ttotal: 515ms\tremaining: 1.05s\n",
      "330:\tlearn: 0.3315851\ttotal: 516ms\tremaining: 1.04s\n",
      "331:\tlearn: 0.3311837\ttotal: 518ms\tremaining: 1.04s\n",
      "332:\tlearn: 0.3307700\ttotal: 519ms\tremaining: 1.04s\n",
      "333:\tlearn: 0.3304340\ttotal: 520ms\tremaining: 1.04s\n",
      "334:\tlearn: 0.3300341\ttotal: 521ms\tremaining: 1.03s\n",
      "335:\tlearn: 0.3297522\ttotal: 522ms\tremaining: 1.03s\n",
      "336:\tlearn: 0.3295205\ttotal: 523ms\tremaining: 1.03s\n",
      "337:\tlearn: 0.3293637\ttotal: 524ms\tremaining: 1.03s\n",
      "338:\tlearn: 0.3291898\ttotal: 526ms\tremaining: 1.02s\n",
      "339:\tlearn: 0.3290063\ttotal: 527ms\tremaining: 1.02s\n",
      "340:\tlearn: 0.3287821\ttotal: 528ms\tremaining: 1.02s\n",
      "341:\tlearn: 0.3283827\ttotal: 529ms\tremaining: 1.02s\n",
      "342:\tlearn: 0.3279494\ttotal: 530ms\tremaining: 1.01s\n",
      "343:\tlearn: 0.3275027\ttotal: 532ms\tremaining: 1.01s\n",
      "344:\tlearn: 0.3272126\ttotal: 533ms\tremaining: 1.01s\n",
      "345:\tlearn: 0.3269864\ttotal: 534ms\tremaining: 1.01s\n",
      "346:\tlearn: 0.3267948\ttotal: 535ms\tremaining: 1.01s\n",
      "347:\tlearn: 0.3265676\ttotal: 536ms\tremaining: 1s\n",
      "348:\tlearn: 0.3262798\ttotal: 537ms\tremaining: 1s\n",
      "349:\tlearn: 0.3257439\ttotal: 538ms\tremaining: 1000ms\n",
      "350:\tlearn: 0.3252834\ttotal: 540ms\tremaining: 998ms\n",
      "351:\tlearn: 0.3250668\ttotal: 541ms\tremaining: 995ms\n",
      "352:\tlearn: 0.3248920\ttotal: 542ms\tremaining: 993ms\n",
      "353:\tlearn: 0.3245146\ttotal: 543ms\tremaining: 991ms\n",
      "354:\tlearn: 0.3239994\ttotal: 544ms\tremaining: 988ms\n",
      "355:\tlearn: 0.3236696\ttotal: 545ms\tremaining: 986ms\n",
      "356:\tlearn: 0.3232389\ttotal: 546ms\tremaining: 984ms\n",
      "357:\tlearn: 0.3228795\ttotal: 547ms\tremaining: 981ms\n",
      "358:\tlearn: 0.3225216\ttotal: 548ms\tremaining: 979ms\n",
      "359:\tlearn: 0.3223036\ttotal: 549ms\tremaining: 977ms\n",
      "360:\tlearn: 0.3220237\ttotal: 550ms\tremaining: 974ms\n",
      "361:\tlearn: 0.3217627\ttotal: 551ms\tremaining: 972ms\n",
      "362:\tlearn: 0.3215641\ttotal: 553ms\tremaining: 970ms\n",
      "363:\tlearn: 0.3214816\ttotal: 554ms\tremaining: 968ms\n",
      "364:\tlearn: 0.3212754\ttotal: 555ms\tremaining: 965ms\n",
      "365:\tlearn: 0.3210751\ttotal: 556ms\tremaining: 963ms\n",
      "366:\tlearn: 0.3207807\ttotal: 557ms\tremaining: 961ms\n",
      "367:\tlearn: 0.3203301\ttotal: 558ms\tremaining: 959ms\n",
      "368:\tlearn: 0.3199698\ttotal: 559ms\tremaining: 956ms\n",
      "369:\tlearn: 0.3197335\ttotal: 560ms\tremaining: 954ms\n",
      "370:\tlearn: 0.3193473\ttotal: 562ms\tremaining: 952ms\n",
      "371:\tlearn: 0.3189255\ttotal: 563ms\tremaining: 950ms\n",
      "372:\tlearn: 0.3186002\ttotal: 564ms\tremaining: 948ms\n",
      "373:\tlearn: 0.3182940\ttotal: 565ms\tremaining: 945ms\n",
      "374:\tlearn: 0.3179625\ttotal: 566ms\tremaining: 943ms\n",
      "375:\tlearn: 0.3178133\ttotal: 567ms\tremaining: 941ms\n",
      "376:\tlearn: 0.3176093\ttotal: 568ms\tremaining: 939ms\n",
      "377:\tlearn: 0.3171505\ttotal: 569ms\tremaining: 937ms\n",
      "378:\tlearn: 0.3168646\ttotal: 571ms\tremaining: 935ms\n",
      "379:\tlearn: 0.3166938\ttotal: 572ms\tremaining: 933ms\n",
      "380:\tlearn: 0.3163473\ttotal: 573ms\tremaining: 931ms\n",
      "381:\tlearn: 0.3159557\ttotal: 574ms\tremaining: 929ms\n",
      "382:\tlearn: 0.3155921\ttotal: 575ms\tremaining: 927ms\n",
      "383:\tlearn: 0.3153590\ttotal: 577ms\tremaining: 925ms\n",
      "384:\tlearn: 0.3151442\ttotal: 578ms\tremaining: 923ms\n",
      "385:\tlearn: 0.3146594\ttotal: 579ms\tremaining: 921ms\n",
      "386:\tlearn: 0.3143411\ttotal: 580ms\tremaining: 919ms\n",
      "387:\tlearn: 0.3139587\ttotal: 581ms\tremaining: 917ms\n",
      "388:\tlearn: 0.3136443\ttotal: 582ms\tremaining: 915ms\n",
      "389:\tlearn: 0.3133613\ttotal: 584ms\tremaining: 913ms\n",
      "390:\tlearn: 0.3129909\ttotal: 585ms\tremaining: 911ms\n",
      "391:\tlearn: 0.3127500\ttotal: 586ms\tremaining: 909ms\n",
      "392:\tlearn: 0.3124697\ttotal: 587ms\tremaining: 907ms\n",
      "393:\tlearn: 0.3121594\ttotal: 588ms\tremaining: 905ms\n",
      "394:\tlearn: 0.3119451\ttotal: 590ms\tremaining: 903ms\n",
      "395:\tlearn: 0.3116786\ttotal: 591ms\tremaining: 901ms\n",
      "396:\tlearn: 0.3114439\ttotal: 592ms\tremaining: 899ms\n",
      "397:\tlearn: 0.3112250\ttotal: 593ms\tremaining: 897ms\n",
      "398:\tlearn: 0.3110798\ttotal: 594ms\tremaining: 895ms\n",
      "399:\tlearn: 0.3108658\ttotal: 596ms\tremaining: 893ms\n",
      "400:\tlearn: 0.3105324\ttotal: 597ms\tremaining: 892ms\n",
      "401:\tlearn: 0.3103231\ttotal: 598ms\tremaining: 890ms\n",
      "402:\tlearn: 0.3100659\ttotal: 599ms\tremaining: 888ms\n"
     ]
    },
    {
     "name": "stdout",
     "output_type": "stream",
     "text": [
      "403:\tlearn: 0.3096425\ttotal: 601ms\tremaining: 886ms\n",
      "404:\tlearn: 0.3092886\ttotal: 602ms\tremaining: 884ms\n",
      "405:\tlearn: 0.3089068\ttotal: 603ms\tremaining: 882ms\n",
      "406:\tlearn: 0.3085969\ttotal: 604ms\tremaining: 880ms\n",
      "407:\tlearn: 0.3084156\ttotal: 605ms\tremaining: 878ms\n",
      "408:\tlearn: 0.3080925\ttotal: 606ms\tremaining: 876ms\n",
      "409:\tlearn: 0.3079092\ttotal: 608ms\tremaining: 874ms\n",
      "410:\tlearn: 0.3076415\ttotal: 609ms\tremaining: 872ms\n",
      "411:\tlearn: 0.3073202\ttotal: 610ms\tremaining: 871ms\n",
      "412:\tlearn: 0.3070260\ttotal: 611ms\tremaining: 869ms\n",
      "413:\tlearn: 0.3067897\ttotal: 613ms\tremaining: 867ms\n",
      "414:\tlearn: 0.3065278\ttotal: 614ms\tremaining: 865ms\n",
      "415:\tlearn: 0.3061629\ttotal: 615ms\tremaining: 863ms\n",
      "416:\tlearn: 0.3060544\ttotal: 616ms\tremaining: 861ms\n",
      "417:\tlearn: 0.3058099\ttotal: 617ms\tremaining: 860ms\n",
      "418:\tlearn: 0.3055388\ttotal: 619ms\tremaining: 858ms\n",
      "419:\tlearn: 0.3051551\ttotal: 620ms\tremaining: 856ms\n",
      "420:\tlearn: 0.3048933\ttotal: 621ms\tremaining: 854ms\n",
      "421:\tlearn: 0.3047016\ttotal: 622ms\tremaining: 852ms\n",
      "422:\tlearn: 0.3044974\ttotal: 623ms\tremaining: 850ms\n",
      "423:\tlearn: 0.3041960\ttotal: 624ms\tremaining: 848ms\n",
      "424:\tlearn: 0.3038215\ttotal: 626ms\tremaining: 847ms\n",
      "425:\tlearn: 0.3035964\ttotal: 627ms\tremaining: 845ms\n",
      "426:\tlearn: 0.3033748\ttotal: 628ms\tremaining: 843ms\n",
      "427:\tlearn: 0.3030216\ttotal: 629ms\tremaining: 841ms\n",
      "428:\tlearn: 0.3027608\ttotal: 630ms\tremaining: 839ms\n",
      "429:\tlearn: 0.3025228\ttotal: 632ms\tremaining: 838ms\n",
      "430:\tlearn: 0.3021863\ttotal: 633ms\tremaining: 836ms\n",
      "431:\tlearn: 0.3019276\ttotal: 634ms\tremaining: 834ms\n",
      "432:\tlearn: 0.3016997\ttotal: 636ms\tremaining: 832ms\n",
      "433:\tlearn: 0.3013317\ttotal: 637ms\tremaining: 830ms\n",
      "434:\tlearn: 0.3009934\ttotal: 638ms\tremaining: 829ms\n",
      "435:\tlearn: 0.3006001\ttotal: 639ms\tremaining: 827ms\n",
      "436:\tlearn: 0.3004753\ttotal: 640ms\tremaining: 825ms\n",
      "437:\tlearn: 0.3002750\ttotal: 641ms\tremaining: 823ms\n",
      "438:\tlearn: 0.2998138\ttotal: 642ms\tremaining: 821ms\n",
      "439:\tlearn: 0.2996371\ttotal: 644ms\tremaining: 819ms\n",
      "440:\tlearn: 0.2993837\ttotal: 645ms\tremaining: 817ms\n",
      "441:\tlearn: 0.2989852\ttotal: 646ms\tremaining: 815ms\n",
      "442:\tlearn: 0.2986139\ttotal: 647ms\tremaining: 814ms\n",
      "443:\tlearn: 0.2983936\ttotal: 648ms\tremaining: 812ms\n",
      "444:\tlearn: 0.2982050\ttotal: 649ms\tremaining: 810ms\n",
      "445:\tlearn: 0.2978749\ttotal: 650ms\tremaining: 808ms\n",
      "446:\tlearn: 0.2976477\ttotal: 652ms\tremaining: 806ms\n",
      "447:\tlearn: 0.2975177\ttotal: 653ms\tremaining: 804ms\n",
      "448:\tlearn: 0.2972308\ttotal: 654ms\tremaining: 802ms\n",
      "449:\tlearn: 0.2970279\ttotal: 655ms\tremaining: 801ms\n",
      "450:\tlearn: 0.2967987\ttotal: 656ms\tremaining: 799ms\n",
      "451:\tlearn: 0.2965418\ttotal: 657ms\tremaining: 797ms\n",
      "452:\tlearn: 0.2961980\ttotal: 658ms\tremaining: 795ms\n",
      "453:\tlearn: 0.2958058\ttotal: 660ms\tremaining: 793ms\n",
      "454:\tlearn: 0.2955811\ttotal: 661ms\tremaining: 791ms\n",
      "455:\tlearn: 0.2952631\ttotal: 662ms\tremaining: 790ms\n",
      "456:\tlearn: 0.2949328\ttotal: 663ms\tremaining: 788ms\n",
      "457:\tlearn: 0.2946916\ttotal: 664ms\tremaining: 786ms\n",
      "458:\tlearn: 0.2944291\ttotal: 665ms\tremaining: 784ms\n",
      "459:\tlearn: 0.2940537\ttotal: 666ms\tremaining: 782ms\n",
      "460:\tlearn: 0.2938233\ttotal: 667ms\tremaining: 780ms\n",
      "461:\tlearn: 0.2934763\ttotal: 669ms\tremaining: 778ms\n",
      "462:\tlearn: 0.2932551\ttotal: 670ms\tremaining: 777ms\n",
      "463:\tlearn: 0.2928583\ttotal: 671ms\tremaining: 775ms\n",
      "464:\tlearn: 0.2926352\ttotal: 672ms\tremaining: 773ms\n",
      "465:\tlearn: 0.2921833\ttotal: 673ms\tremaining: 771ms\n",
      "466:\tlearn: 0.2918715\ttotal: 674ms\tremaining: 769ms\n",
      "467:\tlearn: 0.2916890\ttotal: 675ms\tremaining: 768ms\n",
      "468:\tlearn: 0.2913384\ttotal: 676ms\tremaining: 766ms\n",
      "469:\tlearn: 0.2909346\ttotal: 677ms\tremaining: 764ms\n",
      "470:\tlearn: 0.2906418\ttotal: 678ms\tremaining: 762ms\n",
      "471:\tlearn: 0.2904646\ttotal: 680ms\tremaining: 760ms\n",
      "472:\tlearn: 0.2901581\ttotal: 681ms\tremaining: 759ms\n",
      "473:\tlearn: 0.2899093\ttotal: 682ms\tremaining: 757ms\n",
      "474:\tlearn: 0.2896193\ttotal: 683ms\tremaining: 755ms\n",
      "475:\tlearn: 0.2893577\ttotal: 684ms\tremaining: 753ms\n",
      "476:\tlearn: 0.2891203\ttotal: 685ms\tremaining: 751ms\n",
      "477:\tlearn: 0.2889363\ttotal: 686ms\tremaining: 750ms\n",
      "478:\tlearn: 0.2885583\ttotal: 688ms\tremaining: 748ms\n",
      "479:\tlearn: 0.2884060\ttotal: 689ms\tremaining: 746ms\n",
      "480:\tlearn: 0.2881816\ttotal: 690ms\tremaining: 744ms\n",
      "481:\tlearn: 0.2879256\ttotal: 691ms\tremaining: 743ms\n",
      "482:\tlearn: 0.2876795\ttotal: 692ms\tremaining: 741ms\n",
      "483:\tlearn: 0.2875301\ttotal: 693ms\tremaining: 739ms\n",
      "484:\tlearn: 0.2873756\ttotal: 694ms\tremaining: 737ms\n",
      "485:\tlearn: 0.2871930\ttotal: 696ms\tremaining: 736ms\n",
      "486:\tlearn: 0.2867506\ttotal: 697ms\tremaining: 734ms\n",
      "487:\tlearn: 0.2864186\ttotal: 698ms\tremaining: 732ms\n",
      "488:\tlearn: 0.2860356\ttotal: 699ms\tremaining: 731ms\n",
      "489:\tlearn: 0.2856972\ttotal: 700ms\tremaining: 729ms\n",
      "490:\tlearn: 0.2853872\ttotal: 701ms\tremaining: 727ms\n",
      "491:\tlearn: 0.2851865\ttotal: 702ms\tremaining: 725ms\n",
      "492:\tlearn: 0.2849394\ttotal: 704ms\tremaining: 724ms\n",
      "493:\tlearn: 0.2846502\ttotal: 705ms\tremaining: 722ms\n",
      "494:\tlearn: 0.2842385\ttotal: 706ms\tremaining: 720ms\n",
      "495:\tlearn: 0.2840612\ttotal: 707ms\tremaining: 718ms\n",
      "496:\tlearn: 0.2838112\ttotal: 708ms\tremaining: 717ms\n",
      "497:\tlearn: 0.2834557\ttotal: 709ms\tremaining: 715ms\n",
      "498:\tlearn: 0.2832230\ttotal: 710ms\tremaining: 713ms\n",
      "499:\tlearn: 0.2830082\ttotal: 712ms\tremaining: 712ms\n",
      "500:\tlearn: 0.2827824\ttotal: 713ms\tremaining: 710ms\n",
      "501:\tlearn: 0.2825167\ttotal: 714ms\tremaining: 708ms\n",
      "502:\tlearn: 0.2821607\ttotal: 715ms\tremaining: 706ms\n",
      "503:\tlearn: 0.2820012\ttotal: 716ms\tremaining: 705ms\n",
      "504:\tlearn: 0.2817436\ttotal: 717ms\tremaining: 703ms\n",
      "505:\tlearn: 0.2814831\ttotal: 718ms\tremaining: 701ms\n",
      "506:\tlearn: 0.2812357\ttotal: 719ms\tremaining: 700ms\n",
      "507:\tlearn: 0.2808567\ttotal: 721ms\tremaining: 698ms\n",
      "508:\tlearn: 0.2804529\ttotal: 722ms\tremaining: 696ms\n",
      "509:\tlearn: 0.2802241\ttotal: 723ms\tremaining: 694ms\n",
      "510:\tlearn: 0.2798728\ttotal: 724ms\tremaining: 693ms\n",
      "511:\tlearn: 0.2795302\ttotal: 725ms\tremaining: 691ms\n",
      "512:\tlearn: 0.2792912\ttotal: 726ms\tremaining: 689ms\n",
      "513:\tlearn: 0.2790280\ttotal: 727ms\tremaining: 688ms\n",
      "514:\tlearn: 0.2787695\ttotal: 728ms\tremaining: 686ms\n",
      "515:\tlearn: 0.2785174\ttotal: 730ms\tremaining: 684ms\n",
      "516:\tlearn: 0.2782175\ttotal: 731ms\tremaining: 683ms\n",
      "517:\tlearn: 0.2780444\ttotal: 732ms\tremaining: 681ms\n",
      "518:\tlearn: 0.2779364\ttotal: 733ms\tremaining: 679ms\n",
      "519:\tlearn: 0.2776343\ttotal: 734ms\tremaining: 678ms\n",
      "520:\tlearn: 0.2772535\ttotal: 735ms\tremaining: 676ms\n",
      "521:\tlearn: 0.2771424\ttotal: 736ms\tremaining: 674ms\n",
      "522:\tlearn: 0.2769269\ttotal: 737ms\tremaining: 673ms\n",
      "523:\tlearn: 0.2765972\ttotal: 739ms\tremaining: 671ms\n",
      "524:\tlearn: 0.2763896\ttotal: 740ms\tremaining: 669ms\n",
      "525:\tlearn: 0.2761815\ttotal: 741ms\tremaining: 668ms\n",
      "526:\tlearn: 0.2759582\ttotal: 742ms\tremaining: 666ms\n",
      "527:\tlearn: 0.2757026\ttotal: 743ms\tremaining: 664ms\n",
      "528:\tlearn: 0.2755446\ttotal: 744ms\tremaining: 662ms\n",
      "529:\tlearn: 0.2750856\ttotal: 745ms\tremaining: 661ms\n",
      "530:\tlearn: 0.2746761\ttotal: 746ms\tremaining: 659ms\n",
      "531:\tlearn: 0.2743697\ttotal: 747ms\tremaining: 657ms\n",
      "532:\tlearn: 0.2741825\ttotal: 748ms\tremaining: 656ms\n",
      "533:\tlearn: 0.2738489\ttotal: 749ms\tremaining: 654ms\n",
      "534:\tlearn: 0.2733949\ttotal: 751ms\tremaining: 653ms\n",
      "535:\tlearn: 0.2731483\ttotal: 752ms\tremaining: 651ms\n",
      "536:\tlearn: 0.2730115\ttotal: 753ms\tremaining: 649ms\n",
      "537:\tlearn: 0.2726653\ttotal: 754ms\tremaining: 648ms\n",
      "538:\tlearn: 0.2724168\ttotal: 755ms\tremaining: 646ms\n",
      "539:\tlearn: 0.2721089\ttotal: 756ms\tremaining: 644ms\n",
      "540:\tlearn: 0.2719503\ttotal: 757ms\tremaining: 643ms\n",
      "541:\tlearn: 0.2715642\ttotal: 759ms\tremaining: 641ms\n",
      "542:\tlearn: 0.2713755\ttotal: 760ms\tremaining: 639ms\n",
      "543:\tlearn: 0.2711540\ttotal: 761ms\tremaining: 638ms\n",
      "544:\tlearn: 0.2709194\ttotal: 762ms\tremaining: 636ms\n",
      "545:\tlearn: 0.2706345\ttotal: 763ms\tremaining: 634ms\n",
      "546:\tlearn: 0.2703596\ttotal: 764ms\tremaining: 633ms\n",
      "547:\tlearn: 0.2701346\ttotal: 765ms\tremaining: 631ms\n",
      "548:\tlearn: 0.2698463\ttotal: 766ms\tremaining: 630ms\n",
      "549:\tlearn: 0.2695386\ttotal: 768ms\tremaining: 628ms\n",
      "550:\tlearn: 0.2693248\ttotal: 769ms\tremaining: 626ms\n",
      "551:\tlearn: 0.2690288\ttotal: 770ms\tremaining: 625ms\n",
      "552:\tlearn: 0.2688550\ttotal: 771ms\tremaining: 623ms\n",
      "553:\tlearn: 0.2686165\ttotal: 772ms\tremaining: 621ms\n",
      "554:\tlearn: 0.2681685\ttotal: 773ms\tremaining: 620ms\n",
      "555:\tlearn: 0.2680418\ttotal: 774ms\tremaining: 618ms\n",
      "556:\tlearn: 0.2677821\ttotal: 775ms\tremaining: 617ms\n",
      "557:\tlearn: 0.2676375\ttotal: 776ms\tremaining: 615ms\n",
      "558:\tlearn: 0.2673170\ttotal: 777ms\tremaining: 613ms\n",
      "559:\tlearn: 0.2672350\ttotal: 778ms\tremaining: 612ms\n",
      "560:\tlearn: 0.2669757\ttotal: 780ms\tremaining: 610ms\n",
      "561:\tlearn: 0.2668503\ttotal: 781ms\tremaining: 608ms\n",
      "562:\tlearn: 0.2664496\ttotal: 782ms\tremaining: 607ms\n",
      "563:\tlearn: 0.2662466\ttotal: 783ms\tremaining: 605ms\n",
      "564:\tlearn: 0.2659453\ttotal: 784ms\tremaining: 604ms\n",
      "565:\tlearn: 0.2656591\ttotal: 785ms\tremaining: 602ms\n",
      "566:\tlearn: 0.2653161\ttotal: 786ms\tremaining: 601ms\n",
      "567:\tlearn: 0.2650239\ttotal: 788ms\tremaining: 599ms\n",
      "568:\tlearn: 0.2648326\ttotal: 789ms\tremaining: 597ms\n",
      "569:\tlearn: 0.2645600\ttotal: 790ms\tremaining: 596ms\n",
      "570:\tlearn: 0.2641106\ttotal: 791ms\tremaining: 594ms\n",
      "571:\tlearn: 0.2638783\ttotal: 792ms\tremaining: 593ms\n",
      "572:\tlearn: 0.2635724\ttotal: 793ms\tremaining: 591ms\n",
      "573:\tlearn: 0.2633554\ttotal: 794ms\tremaining: 589ms\n",
      "574:\tlearn: 0.2631437\ttotal: 795ms\tremaining: 588ms\n"
     ]
    },
    {
     "name": "stdout",
     "output_type": "stream",
     "text": [
      "575:\tlearn: 0.2628201\ttotal: 797ms\tremaining: 586ms\n",
      "576:\tlearn: 0.2625724\ttotal: 798ms\tremaining: 585ms\n",
      "577:\tlearn: 0.2621389\ttotal: 799ms\tremaining: 583ms\n",
      "578:\tlearn: 0.2618946\ttotal: 800ms\tremaining: 582ms\n",
      "579:\tlearn: 0.2616415\ttotal: 801ms\tremaining: 580ms\n",
      "580:\tlearn: 0.2613862\ttotal: 802ms\tremaining: 579ms\n",
      "581:\tlearn: 0.2611129\ttotal: 803ms\tremaining: 577ms\n",
      "582:\tlearn: 0.2608971\ttotal: 805ms\tremaining: 575ms\n",
      "583:\tlearn: 0.2605561\ttotal: 806ms\tremaining: 574ms\n",
      "584:\tlearn: 0.2603095\ttotal: 807ms\tremaining: 572ms\n",
      "585:\tlearn: 0.2599623\ttotal: 808ms\tremaining: 571ms\n",
      "586:\tlearn: 0.2596878\ttotal: 809ms\tremaining: 569ms\n",
      "587:\tlearn: 0.2595159\ttotal: 810ms\tremaining: 568ms\n",
      "588:\tlearn: 0.2593607\ttotal: 811ms\tremaining: 566ms\n",
      "589:\tlearn: 0.2589651\ttotal: 813ms\tremaining: 565ms\n",
      "590:\tlearn: 0.2585967\ttotal: 814ms\tremaining: 563ms\n",
      "591:\tlearn: 0.2583732\ttotal: 815ms\tremaining: 562ms\n",
      "592:\tlearn: 0.2579745\ttotal: 817ms\tremaining: 560ms\n",
      "593:\tlearn: 0.2577177\ttotal: 818ms\tremaining: 559ms\n",
      "594:\tlearn: 0.2574125\ttotal: 819ms\tremaining: 558ms\n",
      "595:\tlearn: 0.2569876\ttotal: 820ms\tremaining: 556ms\n",
      "596:\tlearn: 0.2567586\ttotal: 821ms\tremaining: 555ms\n",
      "597:\tlearn: 0.2564962\ttotal: 823ms\tremaining: 553ms\n",
      "598:\tlearn: 0.2560100\ttotal: 824ms\tremaining: 552ms\n",
      "599:\tlearn: 0.2556891\ttotal: 825ms\tremaining: 550ms\n",
      "600:\tlearn: 0.2553665\ttotal: 826ms\tremaining: 549ms\n",
      "601:\tlearn: 0.2552058\ttotal: 828ms\tremaining: 547ms\n",
      "602:\tlearn: 0.2549483\ttotal: 829ms\tremaining: 546ms\n",
      "603:\tlearn: 0.2546345\ttotal: 830ms\tremaining: 544ms\n",
      "604:\tlearn: 0.2544574\ttotal: 831ms\tremaining: 543ms\n",
      "605:\tlearn: 0.2542061\ttotal: 833ms\tremaining: 541ms\n",
      "606:\tlearn: 0.2539625\ttotal: 834ms\tremaining: 540ms\n",
      "607:\tlearn: 0.2537824\ttotal: 835ms\tremaining: 538ms\n",
      "608:\tlearn: 0.2534948\ttotal: 836ms\tremaining: 537ms\n",
      "609:\tlearn: 0.2532077\ttotal: 837ms\tremaining: 535ms\n",
      "610:\tlearn: 0.2528465\ttotal: 839ms\tremaining: 534ms\n",
      "611:\tlearn: 0.2525800\ttotal: 840ms\tremaining: 533ms\n",
      "612:\tlearn: 0.2523281\ttotal: 841ms\tremaining: 531ms\n",
      "613:\tlearn: 0.2519760\ttotal: 843ms\tremaining: 530ms\n",
      "614:\tlearn: 0.2516252\ttotal: 844ms\tremaining: 528ms\n",
      "615:\tlearn: 0.2513273\ttotal: 845ms\tremaining: 527ms\n",
      "616:\tlearn: 0.2511473\ttotal: 847ms\tremaining: 525ms\n",
      "617:\tlearn: 0.2507903\ttotal: 848ms\tremaining: 524ms\n",
      "618:\tlearn: 0.2505094\ttotal: 849ms\tremaining: 523ms\n",
      "619:\tlearn: 0.2502423\ttotal: 850ms\tremaining: 521ms\n",
      "620:\tlearn: 0.2498298\ttotal: 851ms\tremaining: 520ms\n",
      "621:\tlearn: 0.2494187\ttotal: 853ms\tremaining: 518ms\n",
      "622:\tlearn: 0.2491049\ttotal: 854ms\tremaining: 517ms\n",
      "623:\tlearn: 0.2488918\ttotal: 855ms\tremaining: 515ms\n",
      "624:\tlearn: 0.2485234\ttotal: 857ms\tremaining: 514ms\n",
      "625:\tlearn: 0.2482079\ttotal: 858ms\tremaining: 513ms\n",
      "626:\tlearn: 0.2479022\ttotal: 859ms\tremaining: 511ms\n",
      "627:\tlearn: 0.2475162\ttotal: 860ms\tremaining: 510ms\n",
      "628:\tlearn: 0.2472585\ttotal: 861ms\tremaining: 508ms\n",
      "629:\tlearn: 0.2468260\ttotal: 863ms\tremaining: 507ms\n",
      "630:\tlearn: 0.2465427\ttotal: 864ms\tremaining: 505ms\n",
      "631:\tlearn: 0.2462156\ttotal: 865ms\tremaining: 504ms\n",
      "632:\tlearn: 0.2458665\ttotal: 866ms\tremaining: 502ms\n",
      "633:\tlearn: 0.2456169\ttotal: 867ms\tremaining: 501ms\n",
      "634:\tlearn: 0.2453712\ttotal: 868ms\tremaining: 499ms\n",
      "635:\tlearn: 0.2451301\ttotal: 870ms\tremaining: 498ms\n",
      "636:\tlearn: 0.2448975\ttotal: 871ms\tremaining: 496ms\n",
      "637:\tlearn: 0.2446455\ttotal: 872ms\tremaining: 495ms\n",
      "638:\tlearn: 0.2444081\ttotal: 873ms\tremaining: 493ms\n",
      "639:\tlearn: 0.2441737\ttotal: 874ms\tremaining: 492ms\n",
      "640:\tlearn: 0.2439052\ttotal: 875ms\tremaining: 490ms\n",
      "641:\tlearn: 0.2436012\ttotal: 876ms\tremaining: 489ms\n",
      "642:\tlearn: 0.2433022\ttotal: 877ms\tremaining: 487ms\n",
      "643:\tlearn: 0.2428634\ttotal: 879ms\tremaining: 486ms\n",
      "644:\tlearn: 0.2424923\ttotal: 880ms\tremaining: 484ms\n",
      "645:\tlearn: 0.2421516\ttotal: 881ms\tremaining: 483ms\n",
      "646:\tlearn: 0.2418626\ttotal: 882ms\tremaining: 481ms\n",
      "647:\tlearn: 0.2415387\ttotal: 883ms\tremaining: 480ms\n",
      "648:\tlearn: 0.2411357\ttotal: 884ms\tremaining: 478ms\n",
      "649:\tlearn: 0.2408263\ttotal: 885ms\tremaining: 477ms\n",
      "650:\tlearn: 0.2405456\ttotal: 886ms\tremaining: 475ms\n",
      "651:\tlearn: 0.2403169\ttotal: 888ms\tremaining: 474ms\n",
      "652:\tlearn: 0.2400516\ttotal: 889ms\tremaining: 472ms\n",
      "653:\tlearn: 0.2397271\ttotal: 890ms\tremaining: 471ms\n",
      "654:\tlearn: 0.2394302\ttotal: 891ms\tremaining: 469ms\n",
      "655:\tlearn: 0.2390671\ttotal: 892ms\tremaining: 468ms\n",
      "656:\tlearn: 0.2387503\ttotal: 893ms\tremaining: 466ms\n",
      "657:\tlearn: 0.2385791\ttotal: 894ms\tremaining: 465ms\n",
      "658:\tlearn: 0.2381495\ttotal: 895ms\tremaining: 463ms\n",
      "659:\tlearn: 0.2379843\ttotal: 896ms\tremaining: 462ms\n",
      "660:\tlearn: 0.2375359\ttotal: 898ms\tremaining: 460ms\n",
      "661:\tlearn: 0.2372910\ttotal: 899ms\tremaining: 459ms\n",
      "662:\tlearn: 0.2369154\ttotal: 900ms\tremaining: 457ms\n",
      "663:\tlearn: 0.2365902\ttotal: 901ms\tremaining: 456ms\n",
      "664:\tlearn: 0.2363117\ttotal: 902ms\tremaining: 454ms\n",
      "665:\tlearn: 0.2359307\ttotal: 903ms\tremaining: 453ms\n",
      "666:\tlearn: 0.2356419\ttotal: 904ms\tremaining: 451ms\n",
      "667:\tlearn: 0.2354751\ttotal: 905ms\tremaining: 450ms\n",
      "668:\tlearn: 0.2350548\ttotal: 907ms\tremaining: 449ms\n",
      "669:\tlearn: 0.2347412\ttotal: 908ms\tremaining: 447ms\n",
      "670:\tlearn: 0.2344892\ttotal: 909ms\tremaining: 446ms\n",
      "671:\tlearn: 0.2341674\ttotal: 910ms\tremaining: 444ms\n",
      "672:\tlearn: 0.2338669\ttotal: 911ms\tremaining: 443ms\n",
      "673:\tlearn: 0.2335460\ttotal: 912ms\tremaining: 441ms\n",
      "674:\tlearn: 0.2332397\ttotal: 913ms\tremaining: 440ms\n",
      "675:\tlearn: 0.2329396\ttotal: 914ms\tremaining: 438ms\n",
      "676:\tlearn: 0.2326302\ttotal: 916ms\tremaining: 437ms\n",
      "677:\tlearn: 0.2323185\ttotal: 917ms\tremaining: 435ms\n",
      "678:\tlearn: 0.2319128\ttotal: 918ms\tremaining: 434ms\n",
      "679:\tlearn: 0.2316829\ttotal: 919ms\tremaining: 433ms\n",
      "680:\tlearn: 0.2313324\ttotal: 920ms\tremaining: 431ms\n",
      "681:\tlearn: 0.2311235\ttotal: 921ms\tremaining: 430ms\n",
      "682:\tlearn: 0.2306905\ttotal: 923ms\tremaining: 428ms\n",
      "683:\tlearn: 0.2304499\ttotal: 924ms\tremaining: 427ms\n",
      "684:\tlearn: 0.2301895\ttotal: 925ms\tremaining: 425ms\n",
      "685:\tlearn: 0.2300021\ttotal: 926ms\tremaining: 424ms\n",
      "686:\tlearn: 0.2297828\ttotal: 927ms\tremaining: 422ms\n",
      "687:\tlearn: 0.2296607\ttotal: 928ms\tremaining: 421ms\n",
      "688:\tlearn: 0.2294588\ttotal: 929ms\tremaining: 420ms\n",
      "689:\tlearn: 0.2291187\ttotal: 931ms\tremaining: 418ms\n",
      "690:\tlearn: 0.2288743\ttotal: 932ms\tremaining: 417ms\n",
      "691:\tlearn: 0.2286934\ttotal: 933ms\tremaining: 415ms\n",
      "692:\tlearn: 0.2285238\ttotal: 934ms\tremaining: 414ms\n",
      "693:\tlearn: 0.2282805\ttotal: 935ms\tremaining: 412ms\n",
      "694:\tlearn: 0.2280653\ttotal: 936ms\tremaining: 411ms\n",
      "695:\tlearn: 0.2277840\ttotal: 937ms\tremaining: 409ms\n",
      "696:\tlearn: 0.2274828\ttotal: 939ms\tremaining: 408ms\n",
      "697:\tlearn: 0.2272791\ttotal: 940ms\tremaining: 407ms\n",
      "698:\tlearn: 0.2269811\ttotal: 941ms\tremaining: 405ms\n",
      "699:\tlearn: 0.2268247\ttotal: 942ms\tremaining: 404ms\n",
      "700:\tlearn: 0.2266622\ttotal: 943ms\tremaining: 402ms\n",
      "701:\tlearn: 0.2265159\ttotal: 944ms\tremaining: 401ms\n",
      "702:\tlearn: 0.2262615\ttotal: 945ms\tremaining: 399ms\n",
      "703:\tlearn: 0.2258363\ttotal: 946ms\tremaining: 398ms\n",
      "704:\tlearn: 0.2254343\ttotal: 947ms\tremaining: 396ms\n",
      "705:\tlearn: 0.2250250\ttotal: 948ms\tremaining: 395ms\n",
      "706:\tlearn: 0.2246570\ttotal: 950ms\tremaining: 394ms\n",
      "707:\tlearn: 0.2244227\ttotal: 951ms\tremaining: 392ms\n",
      "708:\tlearn: 0.2241844\ttotal: 952ms\tremaining: 391ms\n",
      "709:\tlearn: 0.2238138\ttotal: 953ms\tremaining: 389ms\n",
      "710:\tlearn: 0.2234821\ttotal: 954ms\tremaining: 388ms\n",
      "711:\tlearn: 0.2231475\ttotal: 955ms\tremaining: 386ms\n",
      "712:\tlearn: 0.2229159\ttotal: 956ms\tremaining: 385ms\n",
      "713:\tlearn: 0.2226050\ttotal: 957ms\tremaining: 383ms\n",
      "714:\tlearn: 0.2222465\ttotal: 958ms\tremaining: 382ms\n",
      "715:\tlearn: 0.2219745\ttotal: 960ms\tremaining: 381ms\n",
      "716:\tlearn: 0.2216946\ttotal: 961ms\tremaining: 379ms\n",
      "717:\tlearn: 0.2213206\ttotal: 962ms\tremaining: 378ms\n",
      "718:\tlearn: 0.2211553\ttotal: 963ms\tremaining: 376ms\n",
      "719:\tlearn: 0.2208745\ttotal: 964ms\tremaining: 375ms\n",
      "720:\tlearn: 0.2204669\ttotal: 965ms\tremaining: 374ms\n",
      "721:\tlearn: 0.2202032\ttotal: 967ms\tremaining: 372ms\n",
      "722:\tlearn: 0.2199280\ttotal: 968ms\tremaining: 371ms\n",
      "723:\tlearn: 0.2195866\ttotal: 969ms\tremaining: 369ms\n",
      "724:\tlearn: 0.2193606\ttotal: 970ms\tremaining: 368ms\n",
      "725:\tlearn: 0.2189845\ttotal: 971ms\tremaining: 367ms\n",
      "726:\tlearn: 0.2186711\ttotal: 973ms\tremaining: 365ms\n",
      "727:\tlearn: 0.2185026\ttotal: 974ms\tremaining: 364ms\n",
      "728:\tlearn: 0.2182565\ttotal: 975ms\tremaining: 362ms\n",
      "729:\tlearn: 0.2179952\ttotal: 976ms\tremaining: 361ms\n",
      "730:\tlearn: 0.2176984\ttotal: 977ms\tremaining: 360ms\n",
      "731:\tlearn: 0.2173986\ttotal: 979ms\tremaining: 358ms\n",
      "732:\tlearn: 0.2171492\ttotal: 980ms\tremaining: 357ms\n",
      "733:\tlearn: 0.2167729\ttotal: 981ms\tremaining: 356ms\n",
      "734:\tlearn: 0.2165621\ttotal: 982ms\tremaining: 354ms\n",
      "735:\tlearn: 0.2163578\ttotal: 984ms\tremaining: 353ms\n",
      "736:\tlearn: 0.2161616\ttotal: 985ms\tremaining: 351ms\n",
      "737:\tlearn: 0.2159914\ttotal: 986ms\tremaining: 350ms\n",
      "738:\tlearn: 0.2158056\ttotal: 987ms\tremaining: 349ms\n",
      "739:\tlearn: 0.2156160\ttotal: 988ms\tremaining: 347ms\n",
      "740:\tlearn: 0.2154663\ttotal: 989ms\tremaining: 346ms\n",
      "741:\tlearn: 0.2151816\ttotal: 991ms\tremaining: 344ms\n",
      "742:\tlearn: 0.2150633\ttotal: 992ms\tremaining: 343ms\n",
      "743:\tlearn: 0.2148509\ttotal: 993ms\tremaining: 342ms\n",
      "744:\tlearn: 0.2146943\ttotal: 994ms\tremaining: 340ms\n",
      "745:\tlearn: 0.2143800\ttotal: 995ms\tremaining: 339ms\n",
      "746:\tlearn: 0.2140311\ttotal: 996ms\tremaining: 337ms\n",
      "747:\tlearn: 0.2138656\ttotal: 997ms\tremaining: 336ms\n",
      "748:\tlearn: 0.2136060\ttotal: 998ms\tremaining: 335ms\n",
      "749:\tlearn: 0.2132101\ttotal: 1000ms\tremaining: 333ms\n"
     ]
    },
    {
     "name": "stdout",
     "output_type": "stream",
     "text": [
      "750:\tlearn: 0.2128669\ttotal: 1s\tremaining: 332ms\n",
      "751:\tlearn: 0.2126828\ttotal: 1s\tremaining: 330ms\n",
      "752:\tlearn: 0.2123382\ttotal: 1s\tremaining: 329ms\n",
      "753:\tlearn: 0.2121540\ttotal: 1s\tremaining: 328ms\n",
      "754:\tlearn: 0.2118711\ttotal: 1s\tremaining: 326ms\n",
      "755:\tlearn: 0.2115865\ttotal: 1.01s\tremaining: 325ms\n",
      "756:\tlearn: 0.2113506\ttotal: 1.01s\tremaining: 324ms\n",
      "757:\tlearn: 0.2111671\ttotal: 1.01s\tremaining: 322ms\n",
      "758:\tlearn: 0.2108365\ttotal: 1.01s\tremaining: 321ms\n",
      "759:\tlearn: 0.2106764\ttotal: 1.01s\tremaining: 319ms\n",
      "760:\tlearn: 0.2103907\ttotal: 1.01s\tremaining: 318ms\n",
      "761:\tlearn: 0.2101851\ttotal: 1.01s\tremaining: 317ms\n",
      "762:\tlearn: 0.2099495\ttotal: 1.01s\tremaining: 315ms\n",
      "763:\tlearn: 0.2097707\ttotal: 1.02s\tremaining: 314ms\n",
      "764:\tlearn: 0.2096318\ttotal: 1.02s\tremaining: 312ms\n",
      "765:\tlearn: 0.2093009\ttotal: 1.02s\tremaining: 311ms\n",
      "766:\tlearn: 0.2090140\ttotal: 1.02s\tremaining: 310ms\n",
      "767:\tlearn: 0.2088983\ttotal: 1.02s\tremaining: 308ms\n",
      "768:\tlearn: 0.2085751\ttotal: 1.02s\tremaining: 307ms\n",
      "769:\tlearn: 0.2083097\ttotal: 1.02s\tremaining: 306ms\n",
      "770:\tlearn: 0.2079791\ttotal: 1.02s\tremaining: 304ms\n",
      "771:\tlearn: 0.2078140\ttotal: 1.02s\tremaining: 303ms\n",
      "772:\tlearn: 0.2074537\ttotal: 1.03s\tremaining: 301ms\n",
      "773:\tlearn: 0.2071125\ttotal: 1.03s\tremaining: 300ms\n",
      "774:\tlearn: 0.2067249\ttotal: 1.03s\tremaining: 299ms\n",
      "775:\tlearn: 0.2065727\ttotal: 1.03s\tremaining: 297ms\n",
      "776:\tlearn: 0.2063642\ttotal: 1.03s\tremaining: 296ms\n",
      "777:\tlearn: 0.2061314\ttotal: 1.03s\tremaining: 294ms\n",
      "778:\tlearn: 0.2058364\ttotal: 1.03s\tremaining: 293ms\n",
      "779:\tlearn: 0.2055610\ttotal: 1.03s\tremaining: 292ms\n",
      "780:\tlearn: 0.2053179\ttotal: 1.03s\tremaining: 290ms\n",
      "781:\tlearn: 0.2050187\ttotal: 1.04s\tremaining: 289ms\n",
      "782:\tlearn: 0.2048268\ttotal: 1.04s\tremaining: 288ms\n",
      "783:\tlearn: 0.2044811\ttotal: 1.04s\tremaining: 286ms\n",
      "784:\tlearn: 0.2041534\ttotal: 1.04s\tremaining: 285ms\n",
      "785:\tlearn: 0.2038361\ttotal: 1.04s\tremaining: 283ms\n",
      "786:\tlearn: 0.2036528\ttotal: 1.04s\tremaining: 282ms\n",
      "787:\tlearn: 0.2033819\ttotal: 1.04s\tremaining: 281ms\n",
      "788:\tlearn: 0.2030549\ttotal: 1.04s\tremaining: 279ms\n",
      "789:\tlearn: 0.2028937\ttotal: 1.04s\tremaining: 278ms\n",
      "790:\tlearn: 0.2025511\ttotal: 1.05s\tremaining: 276ms\n",
      "791:\tlearn: 0.2021983\ttotal: 1.05s\tremaining: 275ms\n",
      "792:\tlearn: 0.2019721\ttotal: 1.05s\tremaining: 274ms\n",
      "793:\tlearn: 0.2017246\ttotal: 1.05s\tremaining: 272ms\n",
      "794:\tlearn: 0.2014765\ttotal: 1.05s\tremaining: 271ms\n",
      "795:\tlearn: 0.2011323\ttotal: 1.05s\tremaining: 270ms\n",
      "796:\tlearn: 0.2008750\ttotal: 1.05s\tremaining: 268ms\n",
      "797:\tlearn: 0.2006701\ttotal: 1.05s\tremaining: 267ms\n",
      "798:\tlearn: 0.2003984\ttotal: 1.05s\tremaining: 265ms\n",
      "799:\tlearn: 0.2001749\ttotal: 1.06s\tremaining: 264ms\n",
      "800:\tlearn: 0.2000368\ttotal: 1.06s\tremaining: 263ms\n",
      "801:\tlearn: 0.1996695\ttotal: 1.06s\tremaining: 261ms\n",
      "802:\tlearn: 0.1994663\ttotal: 1.06s\tremaining: 260ms\n",
      "803:\tlearn: 0.1991975\ttotal: 1.06s\tremaining: 259ms\n",
      "804:\tlearn: 0.1990871\ttotal: 1.06s\tremaining: 257ms\n",
      "805:\tlearn: 0.1988334\ttotal: 1.06s\tremaining: 256ms\n",
      "806:\tlearn: 0.1986357\ttotal: 1.06s\tremaining: 255ms\n",
      "807:\tlearn: 0.1983122\ttotal: 1.06s\tremaining: 253ms\n",
      "808:\tlearn: 0.1980120\ttotal: 1.07s\tremaining: 252ms\n",
      "809:\tlearn: 0.1978109\ttotal: 1.07s\tremaining: 250ms\n",
      "810:\tlearn: 0.1977037\ttotal: 1.07s\tremaining: 249ms\n",
      "811:\tlearn: 0.1974322\ttotal: 1.07s\tremaining: 248ms\n",
      "812:\tlearn: 0.1971359\ttotal: 1.07s\tremaining: 246ms\n",
      "813:\tlearn: 0.1969432\ttotal: 1.07s\tremaining: 245ms\n",
      "814:\tlearn: 0.1965854\ttotal: 1.07s\tremaining: 244ms\n",
      "815:\tlearn: 0.1963589\ttotal: 1.07s\tremaining: 242ms\n",
      "816:\tlearn: 0.1962553\ttotal: 1.08s\tremaining: 241ms\n",
      "817:\tlearn: 0.1959754\ttotal: 1.08s\tremaining: 240ms\n",
      "818:\tlearn: 0.1956181\ttotal: 1.08s\tremaining: 238ms\n",
      "819:\tlearn: 0.1953179\ttotal: 1.08s\tremaining: 237ms\n",
      "820:\tlearn: 0.1951077\ttotal: 1.08s\tremaining: 236ms\n",
      "821:\tlearn: 0.1948458\ttotal: 1.08s\tremaining: 234ms\n",
      "822:\tlearn: 0.1945979\ttotal: 1.08s\tremaining: 233ms\n",
      "823:\tlearn: 0.1943026\ttotal: 1.08s\tremaining: 232ms\n",
      "824:\tlearn: 0.1939207\ttotal: 1.08s\tremaining: 230ms\n",
      "825:\tlearn: 0.1936781\ttotal: 1.09s\tremaining: 229ms\n",
      "826:\tlearn: 0.1934424\ttotal: 1.09s\tremaining: 228ms\n",
      "827:\tlearn: 0.1931480\ttotal: 1.09s\tremaining: 226ms\n",
      "828:\tlearn: 0.1929145\ttotal: 1.09s\tremaining: 225ms\n",
      "829:\tlearn: 0.1926636\ttotal: 1.09s\tremaining: 224ms\n",
      "830:\tlearn: 0.1924899\ttotal: 1.09s\tremaining: 222ms\n",
      "831:\tlearn: 0.1923745\ttotal: 1.09s\tremaining: 221ms\n",
      "832:\tlearn: 0.1922266\ttotal: 1.09s\tremaining: 220ms\n",
      "833:\tlearn: 0.1920173\ttotal: 1.1s\tremaining: 218ms\n",
      "834:\tlearn: 0.1917970\ttotal: 1.1s\tremaining: 217ms\n",
      "835:\tlearn: 0.1916041\ttotal: 1.1s\tremaining: 216ms\n",
      "836:\tlearn: 0.1914283\ttotal: 1.1s\tremaining: 214ms\n",
      "837:\tlearn: 0.1911869\ttotal: 1.1s\tremaining: 213ms\n",
      "838:\tlearn: 0.1909236\ttotal: 1.1s\tremaining: 212ms\n",
      "839:\tlearn: 0.1906671\ttotal: 1.1s\tremaining: 210ms\n",
      "840:\tlearn: 0.1904883\ttotal: 1.1s\tremaining: 209ms\n",
      "841:\tlearn: 0.1902741\ttotal: 1.11s\tremaining: 208ms\n",
      "842:\tlearn: 0.1900197\ttotal: 1.11s\tremaining: 206ms\n",
      "843:\tlearn: 0.1897991\ttotal: 1.11s\tremaining: 205ms\n",
      "844:\tlearn: 0.1895612\ttotal: 1.11s\tremaining: 204ms\n",
      "845:\tlearn: 0.1892735\ttotal: 1.11s\tremaining: 202ms\n",
      "846:\tlearn: 0.1891177\ttotal: 1.11s\tremaining: 201ms\n",
      "847:\tlearn: 0.1890251\ttotal: 1.11s\tremaining: 199ms\n",
      "848:\tlearn: 0.1889236\ttotal: 1.11s\tremaining: 198ms\n",
      "849:\tlearn: 0.1887133\ttotal: 1.11s\tremaining: 197ms\n",
      "850:\tlearn: 0.1884471\ttotal: 1.12s\tremaining: 195ms\n",
      "851:\tlearn: 0.1882962\ttotal: 1.12s\tremaining: 194ms\n",
      "852:\tlearn: 0.1880378\ttotal: 1.12s\tremaining: 193ms\n",
      "853:\tlearn: 0.1877442\ttotal: 1.12s\tremaining: 191ms\n",
      "854:\tlearn: 0.1874678\ttotal: 1.12s\tremaining: 190ms\n",
      "855:\tlearn: 0.1871920\ttotal: 1.12s\tremaining: 189ms\n",
      "856:\tlearn: 0.1868609\ttotal: 1.12s\tremaining: 187ms\n",
      "857:\tlearn: 0.1866212\ttotal: 1.12s\tremaining: 186ms\n",
      "858:\tlearn: 0.1864094\ttotal: 1.13s\tremaining: 185ms\n",
      "859:\tlearn: 0.1862864\ttotal: 1.13s\tremaining: 183ms\n",
      "860:\tlearn: 0.1860992\ttotal: 1.13s\tremaining: 182ms\n",
      "861:\tlearn: 0.1858113\ttotal: 1.13s\tremaining: 181ms\n",
      "862:\tlearn: 0.1856816\ttotal: 1.13s\tremaining: 179ms\n",
      "863:\tlearn: 0.1854364\ttotal: 1.13s\tremaining: 178ms\n",
      "864:\tlearn: 0.1852388\ttotal: 1.13s\tremaining: 177ms\n",
      "865:\tlearn: 0.1850931\ttotal: 1.13s\tremaining: 175ms\n",
      "866:\tlearn: 0.1848179\ttotal: 1.13s\tremaining: 174ms\n",
      "867:\tlearn: 0.1845474\ttotal: 1.14s\tremaining: 173ms\n",
      "868:\tlearn: 0.1842716\ttotal: 1.14s\tremaining: 171ms\n",
      "869:\tlearn: 0.1839577\ttotal: 1.14s\tremaining: 170ms\n",
      "870:\tlearn: 0.1838322\ttotal: 1.14s\tremaining: 169ms\n",
      "871:\tlearn: 0.1836610\ttotal: 1.14s\tremaining: 167ms\n",
      "872:\tlearn: 0.1834111\ttotal: 1.14s\tremaining: 166ms\n",
      "873:\tlearn: 0.1832097\ttotal: 1.14s\tremaining: 165ms\n",
      "874:\tlearn: 0.1830216\ttotal: 1.14s\tremaining: 163ms\n",
      "875:\tlearn: 0.1827678\ttotal: 1.14s\tremaining: 162ms\n",
      "876:\tlearn: 0.1824601\ttotal: 1.14s\tremaining: 161ms\n",
      "877:\tlearn: 0.1821650\ttotal: 1.15s\tremaining: 159ms\n",
      "878:\tlearn: 0.1819389\ttotal: 1.15s\tremaining: 158ms\n",
      "879:\tlearn: 0.1817123\ttotal: 1.15s\tremaining: 157ms\n",
      "880:\tlearn: 0.1814788\ttotal: 1.15s\tremaining: 155ms\n",
      "881:\tlearn: 0.1812224\ttotal: 1.15s\tremaining: 154ms\n",
      "882:\tlearn: 0.1809541\ttotal: 1.15s\tremaining: 153ms\n",
      "883:\tlearn: 0.1807804\ttotal: 1.15s\tremaining: 151ms\n",
      "884:\tlearn: 0.1805553\ttotal: 1.15s\tremaining: 150ms\n",
      "885:\tlearn: 0.1804120\ttotal: 1.16s\tremaining: 149ms\n",
      "886:\tlearn: 0.1801894\ttotal: 1.16s\tremaining: 147ms\n",
      "887:\tlearn: 0.1799109\ttotal: 1.16s\tremaining: 146ms\n",
      "888:\tlearn: 0.1797481\ttotal: 1.16s\tremaining: 145ms\n",
      "889:\tlearn: 0.1795800\ttotal: 1.16s\tremaining: 143ms\n",
      "890:\tlearn: 0.1793343\ttotal: 1.16s\tremaining: 142ms\n",
      "891:\tlearn: 0.1791201\ttotal: 1.16s\tremaining: 141ms\n",
      "892:\tlearn: 0.1788083\ttotal: 1.16s\tremaining: 139ms\n",
      "893:\tlearn: 0.1786972\ttotal: 1.16s\tremaining: 138ms\n",
      "894:\tlearn: 0.1785673\ttotal: 1.17s\tremaining: 137ms\n",
      "895:\tlearn: 0.1783296\ttotal: 1.17s\tremaining: 135ms\n",
      "896:\tlearn: 0.1781438\ttotal: 1.17s\tremaining: 134ms\n",
      "897:\tlearn: 0.1780378\ttotal: 1.17s\tremaining: 133ms\n",
      "898:\tlearn: 0.1779153\ttotal: 1.17s\tremaining: 131ms\n",
      "899:\tlearn: 0.1776886\ttotal: 1.17s\tremaining: 130ms\n",
      "900:\tlearn: 0.1775348\ttotal: 1.17s\tremaining: 129ms\n",
      "901:\tlearn: 0.1773230\ttotal: 1.17s\tremaining: 127ms\n",
      "902:\tlearn: 0.1771762\ttotal: 1.17s\tremaining: 126ms\n",
      "903:\tlearn: 0.1770302\ttotal: 1.18s\tremaining: 125ms\n",
      "904:\tlearn: 0.1768996\ttotal: 1.18s\tremaining: 123ms\n",
      "905:\tlearn: 0.1767120\ttotal: 1.18s\tremaining: 122ms\n",
      "906:\tlearn: 0.1764167\ttotal: 1.18s\tremaining: 121ms\n",
      "907:\tlearn: 0.1761903\ttotal: 1.18s\tremaining: 120ms\n",
      "908:\tlearn: 0.1759568\ttotal: 1.18s\tremaining: 118ms\n",
      "909:\tlearn: 0.1757665\ttotal: 1.18s\tremaining: 117ms\n",
      "910:\tlearn: 0.1755622\ttotal: 1.18s\tremaining: 116ms\n",
      "911:\tlearn: 0.1754960\ttotal: 1.18s\tremaining: 114ms\n",
      "912:\tlearn: 0.1753938\ttotal: 1.19s\tremaining: 113ms\n",
      "913:\tlearn: 0.1752313\ttotal: 1.19s\tremaining: 112ms\n",
      "914:\tlearn: 0.1749683\ttotal: 1.19s\tremaining: 110ms\n",
      "915:\tlearn: 0.1748342\ttotal: 1.19s\tremaining: 109ms\n",
      "916:\tlearn: 0.1746871\ttotal: 1.19s\tremaining: 108ms\n",
      "917:\tlearn: 0.1745486\ttotal: 1.19s\tremaining: 106ms\n",
      "918:\tlearn: 0.1744066\ttotal: 1.19s\tremaining: 105ms\n",
      "919:\tlearn: 0.1742457\ttotal: 1.19s\tremaining: 104ms\n",
      "920:\tlearn: 0.1741506\ttotal: 1.19s\tremaining: 102ms\n",
      "921:\tlearn: 0.1739707\ttotal: 1.2s\tremaining: 101ms\n",
      "922:\tlearn: 0.1737477\ttotal: 1.2s\tremaining: 99.8ms\n",
      "923:\tlearn: 0.1735641\ttotal: 1.2s\tremaining: 98.5ms\n",
      "924:\tlearn: 0.1733653\ttotal: 1.2s\tremaining: 97.2ms\n",
      "925:\tlearn: 0.1731345\ttotal: 1.2s\tremaining: 95.9ms\n",
      "926:\tlearn: 0.1728826\ttotal: 1.2s\tremaining: 94.6ms\n",
      "927:\tlearn: 0.1727187\ttotal: 1.2s\tremaining: 93.3ms\n",
      "928:\tlearn: 0.1724936\ttotal: 1.2s\tremaining: 92ms\n",
      "929:\tlearn: 0.1722772\ttotal: 1.2s\tremaining: 90.7ms\n",
      "930:\tlearn: 0.1721094\ttotal: 1.21s\tremaining: 89.4ms\n"
     ]
    },
    {
     "name": "stdout",
     "output_type": "stream",
     "text": [
      "931:\tlearn: 0.1719152\ttotal: 1.21s\tremaining: 88.1ms\n",
      "932:\tlearn: 0.1717274\ttotal: 1.21s\tremaining: 86.8ms\n",
      "933:\tlearn: 0.1715395\ttotal: 1.21s\tremaining: 85.5ms\n",
      "934:\tlearn: 0.1712766\ttotal: 1.21s\tremaining: 84.2ms\n",
      "935:\tlearn: 0.1710389\ttotal: 1.21s\tremaining: 82.9ms\n",
      "936:\tlearn: 0.1708550\ttotal: 1.21s\tremaining: 81.6ms\n",
      "937:\tlearn: 0.1707504\ttotal: 1.22s\tremaining: 80.3ms\n",
      "938:\tlearn: 0.1705843\ttotal: 1.22s\tremaining: 79ms\n",
      "939:\tlearn: 0.1704591\ttotal: 1.22s\tremaining: 77.7ms\n",
      "940:\tlearn: 0.1702468\ttotal: 1.22s\tremaining: 76.4ms\n",
      "941:\tlearn: 0.1701182\ttotal: 1.22s\tremaining: 75.1ms\n",
      "942:\tlearn: 0.1699592\ttotal: 1.22s\tremaining: 73.8ms\n",
      "943:\tlearn: 0.1697571\ttotal: 1.22s\tremaining: 72.5ms\n",
      "944:\tlearn: 0.1695289\ttotal: 1.22s\tremaining: 71.2ms\n",
      "945:\tlearn: 0.1694153\ttotal: 1.22s\tremaining: 69.9ms\n",
      "946:\tlearn: 0.1692041\ttotal: 1.23s\tremaining: 68.6ms\n",
      "947:\tlearn: 0.1689751\ttotal: 1.23s\tremaining: 67.3ms\n",
      "948:\tlearn: 0.1687953\ttotal: 1.23s\tremaining: 66ms\n",
      "949:\tlearn: 0.1685813\ttotal: 1.23s\tremaining: 64.7ms\n",
      "950:\tlearn: 0.1683824\ttotal: 1.23s\tremaining: 63.4ms\n",
      "951:\tlearn: 0.1681236\ttotal: 1.23s\tremaining: 62.1ms\n",
      "952:\tlearn: 0.1680192\ttotal: 1.23s\tremaining: 60.8ms\n",
      "953:\tlearn: 0.1677415\ttotal: 1.23s\tremaining: 59.5ms\n",
      "954:\tlearn: 0.1676114\ttotal: 1.23s\tremaining: 58.2ms\n",
      "955:\tlearn: 0.1673619\ttotal: 1.24s\tremaining: 56.9ms\n",
      "956:\tlearn: 0.1671224\ttotal: 1.24s\tremaining: 55.6ms\n",
      "957:\tlearn: 0.1669502\ttotal: 1.24s\tremaining: 54.3ms\n",
      "958:\tlearn: 0.1667731\ttotal: 1.24s\tremaining: 53ms\n",
      "959:\tlearn: 0.1666070\ttotal: 1.24s\tremaining: 51.7ms\n",
      "960:\tlearn: 0.1664746\ttotal: 1.24s\tremaining: 50.4ms\n",
      "961:\tlearn: 0.1662464\ttotal: 1.24s\tremaining: 49.1ms\n",
      "962:\tlearn: 0.1660353\ttotal: 1.24s\tremaining: 47.8ms\n",
      "963:\tlearn: 0.1658165\ttotal: 1.24s\tremaining: 46.5ms\n",
      "964:\tlearn: 0.1657232\ttotal: 1.25s\tremaining: 45.2ms\n",
      "965:\tlearn: 0.1655050\ttotal: 1.25s\tremaining: 43.9ms\n",
      "966:\tlearn: 0.1653798\ttotal: 1.25s\tremaining: 42.6ms\n",
      "967:\tlearn: 0.1651645\ttotal: 1.25s\tremaining: 41.3ms\n",
      "968:\tlearn: 0.1650383\ttotal: 1.25s\tremaining: 40ms\n",
      "969:\tlearn: 0.1648725\ttotal: 1.25s\tremaining: 38.7ms\n",
      "970:\tlearn: 0.1647133\ttotal: 1.25s\tremaining: 37.4ms\n",
      "971:\tlearn: 0.1645166\ttotal: 1.25s\tremaining: 36.1ms\n",
      "972:\tlearn: 0.1643724\ttotal: 1.25s\tremaining: 34.8ms\n",
      "973:\tlearn: 0.1642087\ttotal: 1.26s\tremaining: 33.5ms\n",
      "974:\tlearn: 0.1640915\ttotal: 1.26s\tremaining: 32.2ms\n",
      "975:\tlearn: 0.1639081\ttotal: 1.26s\tremaining: 31ms\n",
      "976:\tlearn: 0.1637367\ttotal: 1.26s\tremaining: 29.7ms\n",
      "977:\tlearn: 0.1635669\ttotal: 1.26s\tremaining: 28.4ms\n",
      "978:\tlearn: 0.1633350\ttotal: 1.26s\tremaining: 27.1ms\n",
      "979:\tlearn: 0.1631499\ttotal: 1.26s\tremaining: 25.8ms\n",
      "980:\tlearn: 0.1629524\ttotal: 1.26s\tremaining: 24.5ms\n",
      "981:\tlearn: 0.1628089\ttotal: 1.26s\tremaining: 23.2ms\n",
      "982:\tlearn: 0.1625618\ttotal: 1.27s\tremaining: 21.9ms\n",
      "983:\tlearn: 0.1623826\ttotal: 1.27s\tremaining: 20.6ms\n",
      "984:\tlearn: 0.1622398\ttotal: 1.27s\tremaining: 19.3ms\n",
      "985:\tlearn: 0.1619230\ttotal: 1.27s\tremaining: 18ms\n",
      "986:\tlearn: 0.1617808\ttotal: 1.27s\tremaining: 16.7ms\n",
      "987:\tlearn: 0.1616645\ttotal: 1.27s\tremaining: 15.4ms\n",
      "988:\tlearn: 0.1614922\ttotal: 1.27s\tremaining: 14.2ms\n",
      "989:\tlearn: 0.1612155\ttotal: 1.27s\tremaining: 12.9ms\n",
      "990:\tlearn: 0.1610146\ttotal: 1.27s\tremaining: 11.6ms\n",
      "991:\tlearn: 0.1607870\ttotal: 1.28s\tremaining: 10.3ms\n",
      "992:\tlearn: 0.1605935\ttotal: 1.28s\tremaining: 9.01ms\n",
      "993:\tlearn: 0.1604026\ttotal: 1.28s\tremaining: 7.72ms\n",
      "994:\tlearn: 0.1601589\ttotal: 1.28s\tremaining: 6.43ms\n",
      "995:\tlearn: 0.1600452\ttotal: 1.28s\tremaining: 5.14ms\n",
      "996:\tlearn: 0.1598921\ttotal: 1.28s\tremaining: 3.86ms\n",
      "997:\tlearn: 0.1597465\ttotal: 1.28s\tremaining: 2.57ms\n",
      "998:\tlearn: 0.1595585\ttotal: 1.28s\tremaining: 1.28ms\n",
      "999:\tlearn: 0.1593526\ttotal: 1.28s\tremaining: 0us\n"
     ]
    }
   ],
   "source": [
    "from sklearn.model_selection import train_test_split\n",
    "from sklearn.metrics import roc_auc_score\n",
    "from catboost import CatBoostClassifier\n",
    "\n",
    "X_train, X_test, y_train, y_test = train_test_split(X, y, test_size = 0.3, stratify = y, random_state = 0)\n",
    "\n",
    "model = CatBoostClassifier(random_state=42)\n",
    "model.fit(X_train, y_train)\n",
    "pred = model.predict_proba(X_test)[:, 1]\n",
    "score = roc_auc_score(y_test, pred)"
   ]
  },
  {
   "cell_type": "code",
   "execution_count": 61,
   "id": "9da84cb2",
   "metadata": {},
   "outputs": [
    {
     "data": {
      "text/plain": [
       "0.76842051229403"
      ]
     },
     "execution_count": 61,
     "metadata": {},
     "output_type": "execute_result"
    }
   ],
   "source": [
    "score"
   ]
  },
  {
   "cell_type": "code",
   "execution_count": 62,
   "id": "610165f4",
   "metadata": {},
   "outputs": [],
   "source": [
    "data.to_csv('서비스업_target수정.csv', encoding='cp949', index=False)"
   ]
  }
 ],
 "metadata": {
  "kernelspec": {
   "display_name": "Python 3 (ipykernel)",
   "language": "python",
   "name": "python3"
  },
  "language_info": {
   "codemirror_mode": {
    "name": "ipython",
    "version": 3
   },
   "file_extension": ".py",
   "mimetype": "text/x-python",
   "name": "python",
   "nbconvert_exporter": "python",
   "pygments_lexer": "ipython3",
   "version": "3.10.9"
  }
 },
 "nbformat": 4,
 "nbformat_minor": 5
}
