{
 "cells": [
  {
   "cell_type": "code",
   "execution_count": 1,
   "id": "93f12484",
   "metadata": {},
   "outputs": [],
   "source": [
    "import pandas as pd"
   ]
  },
  {
   "cell_type": "code",
   "execution_count": 2,
   "id": "1df54f6f",
   "metadata": {},
   "outputs": [],
   "source": [
    "df = pd.read_csv('건설업전처리완료(target수정).csv')"
   ]
  },
  {
   "cell_type": "code",
   "execution_count": 3,
   "id": "4c2d30c6",
   "metadata": {},
   "outputs": [
    {
     "data": {
      "text/html": [
       "<div>\n",
       "<style scoped>\n",
       "    .dataframe tbody tr th:only-of-type {\n",
       "        vertical-align: middle;\n",
       "    }\n",
       "\n",
       "    .dataframe tbody tr th {\n",
       "        vertical-align: top;\n",
       "    }\n",
       "\n",
       "    .dataframe thead th {\n",
       "        text-align: right;\n",
       "    }\n",
       "</style>\n",
       "<table border=\"1\" class=\"dataframe\">\n",
       "  <thead>\n",
       "    <tr style=\"text-align: right;\">\n",
       "      <th></th>\n",
       "      <th>ID</th>\n",
       "      <th>SQ1</th>\n",
       "      <th>SQ2</th>\n",
       "      <th>Q1_1A</th>\n",
       "      <th>Q1_1B</th>\n",
       "      <th>Q1_1C</th>\n",
       "      <th>Q1_2A</th>\n",
       "      <th>Q1_2B</th>\n",
       "      <th>Q1_2C</th>\n",
       "      <th>Q1_3</th>\n",
       "      <th>...</th>\n",
       "      <th>Q28_1</th>\n",
       "      <th>target</th>\n",
       "      <th>duration</th>\n",
       "      <th>55_ratio</th>\n",
       "      <th>55_plus</th>\n",
       "      <th>55_mul</th>\n",
       "      <th>foreign_ratio</th>\n",
       "      <th>women_ratio</th>\n",
       "      <th>syear_type</th>\n",
       "      <th>year</th>\n",
       "    </tr>\n",
       "  </thead>\n",
       "  <tbody>\n",
       "    <tr>\n",
       "      <th>0</th>\n",
       "      <td>1</td>\n",
       "      <td>34177</td>\n",
       "      <td>1</td>\n",
       "      <td>2021</td>\n",
       "      <td>1</td>\n",
       "      <td>1</td>\n",
       "      <td>2022</td>\n",
       "      <td>12</td>\n",
       "      <td>31</td>\n",
       "      <td>5300</td>\n",
       "      <td>...</td>\n",
       "      <td>3</td>\n",
       "      <td>0</td>\n",
       "      <td>1</td>\n",
       "      <td>0.0</td>\n",
       "      <td>24</td>\n",
       "      <td>0</td>\n",
       "      <td>0.0</td>\n",
       "      <td>0.000000</td>\n",
       "      <td>20210.0</td>\n",
       "      <td>20212022</td>\n",
       "    </tr>\n",
       "    <tr>\n",
       "      <th>1</th>\n",
       "      <td>2</td>\n",
       "      <td>34176</td>\n",
       "      <td>1</td>\n",
       "      <td>2021</td>\n",
       "      <td>1</td>\n",
       "      <td>1</td>\n",
       "      <td>2022</td>\n",
       "      <td>2</td>\n",
       "      <td>31</td>\n",
       "      <td>5300</td>\n",
       "      <td>...</td>\n",
       "      <td>3</td>\n",
       "      <td>0</td>\n",
       "      <td>1</td>\n",
       "      <td>0.0</td>\n",
       "      <td>20</td>\n",
       "      <td>0</td>\n",
       "      <td>0.0</td>\n",
       "      <td>0.000000</td>\n",
       "      <td>20210.0</td>\n",
       "      <td>20212022</td>\n",
       "    </tr>\n",
       "    <tr>\n",
       "      <th>2</th>\n",
       "      <td>3</td>\n",
       "      <td>33633</td>\n",
       "      <td>2</td>\n",
       "      <td>2020</td>\n",
       "      <td>6</td>\n",
       "      <td>10</td>\n",
       "      <td>2022</td>\n",
       "      <td>11</td>\n",
       "      <td>23</td>\n",
       "      <td>13571</td>\n",
       "      <td>...</td>\n",
       "      <td>9</td>\n",
       "      <td>0</td>\n",
       "      <td>2</td>\n",
       "      <td>0.1</td>\n",
       "      <td>198</td>\n",
       "      <td>3240</td>\n",
       "      <td>0.0</td>\n",
       "      <td>0.033333</td>\n",
       "      <td>20200.0</td>\n",
       "      <td>20202022</td>\n",
       "    </tr>\n",
       "    <tr>\n",
       "      <th>3</th>\n",
       "      <td>4</td>\n",
       "      <td>34193</td>\n",
       "      <td>1</td>\n",
       "      <td>2019</td>\n",
       "      <td>11</td>\n",
       "      <td>23</td>\n",
       "      <td>2021</td>\n",
       "      <td>11</td>\n",
       "      <td>22</td>\n",
       "      <td>7216</td>\n",
       "      <td>...</td>\n",
       "      <td>4</td>\n",
       "      <td>0</td>\n",
       "      <td>2</td>\n",
       "      <td>0.5</td>\n",
       "      <td>21</td>\n",
       "      <td>98</td>\n",
       "      <td>0.0</td>\n",
       "      <td>0.071429</td>\n",
       "      <td>20190.0</td>\n",
       "      <td>20192021</td>\n",
       "    </tr>\n",
       "    <tr>\n",
       "      <th>4</th>\n",
       "      <td>5</td>\n",
       "      <td>31801</td>\n",
       "      <td>2</td>\n",
       "      <td>2021</td>\n",
       "      <td>5</td>\n",
       "      <td>14</td>\n",
       "      <td>2023</td>\n",
       "      <td>11</td>\n",
       "      <td>30</td>\n",
       "      <td>46022</td>\n",
       "      <td>...</td>\n",
       "      <td>3</td>\n",
       "      <td>0</td>\n",
       "      <td>2</td>\n",
       "      <td>0.1</td>\n",
       "      <td>11</td>\n",
       "      <td>10</td>\n",
       "      <td>0.0</td>\n",
       "      <td>0.200000</td>\n",
       "      <td>20210.0</td>\n",
       "      <td>20212023</td>\n",
       "    </tr>\n",
       "  </tbody>\n",
       "</table>\n",
       "<p>5 rows × 57 columns</p>\n",
       "</div>"
      ],
      "text/plain": [
       "   ID    SQ1  SQ2  Q1_1A  Q1_1B  Q1_1C  Q1_2A  Q1_2B  Q1_2C   Q1_3  ...  \\\n",
       "0   1  34177    1   2021      1      1   2022     12     31   5300  ...   \n",
       "1   2  34176    1   2021      1      1   2022      2     31   5300  ...   \n",
       "2   3  33633    2   2020      6     10   2022     11     23  13571  ...   \n",
       "3   4  34193    1   2019     11     23   2021     11     22   7216  ...   \n",
       "4   5  31801    2   2021      5     14   2023     11     30  46022  ...   \n",
       "\n",
       "   Q28_1  target  duration  55_ratio  55_plus  55_mul  foreign_ratio  \\\n",
       "0      3       0         1       0.0       24       0            0.0   \n",
       "1      3       0         1       0.0       20       0            0.0   \n",
       "2      9       0         2       0.1      198    3240            0.0   \n",
       "3      4       0         2       0.5       21      98            0.0   \n",
       "4      3       0         2       0.1       11      10            0.0   \n",
       "\n",
       "   women_ratio  syear_type      year  \n",
       "0     0.000000     20210.0  20212022  \n",
       "1     0.000000     20210.0  20212022  \n",
       "2     0.033333     20200.0  20202022  \n",
       "3     0.071429     20190.0  20192021  \n",
       "4     0.200000     20210.0  20212023  \n",
       "\n",
       "[5 rows x 57 columns]"
      ]
     },
     "execution_count": 3,
     "metadata": {},
     "output_type": "execute_result"
    }
   ],
   "source": [
    "df.head()"
   ]
  },
  {
   "cell_type": "code",
   "execution_count": 4,
   "id": "b041333b",
   "metadata": {},
   "outputs": [],
   "source": [
    "df['type1'] = df['Q13_2'].apply(lambda x: 0 if x < 4 else 1)\n",
    "df = df.drop(columns = 'Q13_2')"
   ]
  },
  {
   "cell_type": "code",
   "execution_count": 5,
   "id": "8b6719aa",
   "metadata": {},
   "outputs": [],
   "source": [
    "df['type2'] = df['Q13_4'].apply(lambda x: 0 if x < 4 else 1)\n",
    "df = df.drop(columns = 'Q13_4')"
   ]
  },
  {
   "cell_type": "code",
   "execution_count": 6,
   "id": "2cc42dcc",
   "metadata": {},
   "outputs": [],
   "source": [
    "df['type3'] = df['Q13_5'].apply(lambda x: 0 if x < 4 else 1)\n",
    "df = df.drop(columns = 'Q13_5')"
   ]
  },
  {
   "cell_type": "code",
   "execution_count": 7,
   "id": "4de0add7",
   "metadata": {},
   "outputs": [],
   "source": [
    "df['type4'] = df['Q13_6'].apply(lambda x: 0 if x < 4 else 1)\n",
    "df = df.drop(columns = 'Q13_6')"
   ]
  },
  {
   "cell_type": "code",
   "execution_count": 8,
   "id": "02335e5a",
   "metadata": {},
   "outputs": [],
   "source": [
    "df['type5'] = df[['Q13_7', 'Q13_13', 'Q13_14', 'Q13_15', 'Q13_16', 'Q13_17']].max(axis=1)\n",
    "df['type5'] = df['type5'].apply(lambda x: 0 if x < 4 else 1)\n",
    "df = df.drop(columns=['Q13_7', 'Q13_13', 'Q13_14', 'Q13_15', 'Q13_16', 'Q13_17'])"
   ]
  },
  {
   "cell_type": "code",
   "execution_count": 9,
   "id": "aa6f394e",
   "metadata": {},
   "outputs": [],
   "source": [
    "df['type6'] = df[['Q13_8', 'Q13_9', 'Q13_10', 'Q13_11', 'Q13_12']].max(axis=1)\n",
    "df['type6'] = df['type6'].apply(lambda x: 0 if x < 4 else 1)\n",
    "df = df.drop(columns=['Q13_8', 'Q13_9', 'Q13_10', 'Q13_11', 'Q13_12'])"
   ]
  },
  {
   "cell_type": "code",
   "execution_count": 10,
   "id": "afaa534d",
   "metadata": {},
   "outputs": [],
   "source": [
    "df['type7'] = df['Q13_18'].apply(lambda x: 0 if x < 4 else 1)\n",
    "df = df.drop(columns = 'Q13_18')"
   ]
  },
  {
   "cell_type": "code",
   "execution_count": 11,
   "id": "c24e3d85",
   "metadata": {},
   "outputs": [],
   "source": [
    "df['type8'] = df['Q13_19'].apply(lambda x: 0 if x < 4 else 1)\n",
    "df = df.drop(columns = 'Q13_19')"
   ]
  },
  {
   "cell_type": "code",
   "execution_count": 12,
   "id": "a4fecd02",
   "metadata": {},
   "outputs": [],
   "source": [
    "df['type9'] = df['Q13_20'].apply(lambda x: 0 if x < 4 else 1)\n",
    "df = df.drop(columns = 'Q13_20')"
   ]
  },
  {
   "cell_type": "markdown",
   "id": "635ef865",
   "metadata": {},
   "source": [
    "### 모델링"
   ]
  },
  {
   "cell_type": "code",
   "execution_count": 17,
   "id": "c8cd934b",
   "metadata": {},
   "outputs": [],
   "source": [
    "y = df[df['target']==1]['type4']\n",
    "X = df[df['target']==1].drop(columns='type4')"
   ]
  },
  {
   "cell_type": "code",
   "execution_count": 18,
   "id": "fe8a64f3",
   "metadata": {},
   "outputs": [],
   "source": [
    "from catboost import CatBoostClassifier"
   ]
  },
  {
   "cell_type": "code",
   "execution_count": 19,
   "id": "6379f936",
   "metadata": {},
   "outputs": [],
   "source": [
    "from sklearn.model_selection import train_test_split\n",
    "from sklearn.metrics import roc_auc_score\n",
    "from catboost import CatBoostClassifier\n",
    "\n",
    "X_train, X_test, y_train, y_test = train_test_split(X, y, test_size = 0.2, stratify = y, random_state = 0)\n",
    "\n",
    "model = CatBoostClassifier(random_state=42, verbose=False)\n",
    "model.fit(X_train, y_train)\n",
    "pred = model.predict_proba(X_test)[:, 1]\n",
    "score = roc_auc_score(y_test, pred)"
   ]
  },
  {
   "cell_type": "code",
   "execution_count": 21,
   "id": "f0f37074",
   "metadata": {},
   "outputs": [
    {
     "name": "stdout",
     "output_type": "stream",
     "text": [
      "0.958981612446959 0.034571844651402346\n"
     ]
    }
   ],
   "source": [
    "print(score, pred.mean()) # type1"
   ]
  },
  {
   "cell_type": "code",
   "execution_count": 17,
   "id": "c3853776",
   "metadata": {},
   "outputs": [
    {
     "name": "stdout",
     "output_type": "stream",
     "text": [
      "0.9084967320261438 0.03726267670702351\n"
     ]
    }
   ],
   "source": [
    "print(score, pred.mean()) # type2"
   ]
  },
  {
   "cell_type": "code",
   "execution_count": 16,
   "id": "a2591762",
   "metadata": {},
   "outputs": [
    {
     "name": "stdout",
     "output_type": "stream",
     "text": [
      "0.7437800087298123 0.21887870794774938\n"
     ]
    }
   ],
   "source": [
    "print(score, pred.mean()) # type3"
   ]
  },
  {
   "cell_type": "code",
   "execution_count": 20,
   "id": "59cc99df",
   "metadata": {},
   "outputs": [
    {
     "name": "stdout",
     "output_type": "stream",
     "text": [
      "0.8285714285714285 0.06699528613137518\n"
     ]
    }
   ],
   "source": [
    "print(score, pred.mean()) # type4"
   ]
  },
  {
   "cell_type": "code",
   "execution_count": 32,
   "id": "da161cde",
   "metadata": {},
   "outputs": [
    {
     "name": "stdout",
     "output_type": "stream",
     "text": [
      "0.9748987854251012 0.09921135008132315\n"
     ]
    }
   ],
   "source": [
    "print(score, pred.mean()) # type5"
   ]
  },
  {
   "cell_type": "code",
   "execution_count": 36,
   "id": "82cd9a1c",
   "metadata": {},
   "outputs": [
    {
     "name": "stdout",
     "output_type": "stream",
     "text": [
      "0.9053497942386831 0.20341301155672084\n"
     ]
    }
   ],
   "source": [
    "print(score, pred.mean()) # type6"
   ]
  },
  {
   "cell_type": "code",
   "execution_count": 40,
   "id": "33b5154e",
   "metadata": {},
   "outputs": [
    {
     "name": "stdout",
     "output_type": "stream",
     "text": [
      "0.8455074337427279 0.13213300753750618\n"
     ]
    }
   ],
   "source": [
    "print(score, pred.mean()) # type7"
   ]
  },
  {
   "cell_type": "code",
   "execution_count": 44,
   "id": "ee4e9573",
   "metadata": {},
   "outputs": [
    {
     "name": "stdout",
     "output_type": "stream",
     "text": [
      "0.957825679475164 0.08263836551739567\n"
     ]
    }
   ],
   "source": [
    "print(score, pred.mean()) # type8"
   ]
  },
  {
   "cell_type": "code",
   "execution_count": 48,
   "id": "c97a4a45",
   "metadata": {},
   "outputs": [
    {
     "name": "stdout",
     "output_type": "stream",
     "text": [
      "0.8917800118273211 0.14306523408264973\n"
     ]
    }
   ],
   "source": [
    "print(score, pred.mean()) # type9"
   ]
  },
  {
   "cell_type": "code",
   "execution_count": null,
   "id": "d401bddc",
   "metadata": {},
   "outputs": [],
   "source": []
  }
 ],
 "metadata": {
  "kernelspec": {
   "display_name": "Python 3 (ipykernel)",
   "language": "python",
   "name": "python3"
  },
  "language_info": {
   "codemirror_mode": {
    "name": "ipython",
    "version": 3
   },
   "file_extension": ".py",
   "mimetype": "text/x-python",
   "name": "python",
   "nbconvert_exporter": "python",
   "pygments_lexer": "ipython3",
   "version": "3.9.12"
  }
 },
 "nbformat": 4,
 "nbformat_minor": 5
}
